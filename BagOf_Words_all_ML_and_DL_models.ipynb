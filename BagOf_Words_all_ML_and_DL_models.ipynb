{
  "nbformat": 4,
  "nbformat_minor": 0,
  "metadata": {
    "kernelspec": {
      "display_name": "Python 3",
      "language": "python",
      "name": "python3"
    },
    "language_info": {
      "codemirror_mode": {
        "name": "ipython",
        "version": 3
      },
      "file_extension": ".py",
      "mimetype": "text/x-python",
      "name": "python",
      "nbconvert_exporter": "python",
      "pygments_lexer": "ipython3",
      "version": "3.8.3"
    },
    "colab": {
      "name": "BagOf_Words_all_ML_and_DL_models 1.ipynb",
      "provenance": [],
      "collapsed_sections": [
        "n1d4u1MMrf86",
        "nar6awMYrf87",
        "fbQMeakbrf88",
        "mpgZgv8Jrf89",
        "aP56mq5Arf89",
        "JbqwRPeJrf8_",
        "3hbB8T_Vrf8_",
        "mIjIjyn3rf9A",
        "TH4pRIAjrf9B",
        "BmkukzJ0rf9B",
        "OZIzHmYvrf9C",
        "z_gwJQDzrf9D",
        "OAgaFJjRrf9D",
        "9c_x0Jctrf9E",
        "KYLx5Tisrf9G",
        "dsVa7Tpcrf9H"
      ]
    },
    "accelerator": "GPU"
  },
  "cells": [
    {
      "cell_type": "code",
      "metadata": {
        "colab": {
          "base_uri": "https://localhost:8080/"
        },
        "id": "j7XzI1hNrgvK",
        "outputId": "1a242f50-1f0d-40d8-e5d7-d909a66a4dd4"
      },
      "source": [
        "from google.colab import drive\n",
        "drive.mount('/content/drive')"
      ],
      "execution_count": 1,
      "outputs": [
        {
          "output_type": "stream",
          "text": [
            "Mounted at /content/drive\n"
          ],
          "name": "stdout"
        }
      ]
    },
    {
      "cell_type": "code",
      "metadata": {
        "id": "rFAiucwJrf8l"
      },
      "source": [
        "import numpy as np\n",
        "import pandas as pd\n",
        "import matplotlib.pyplot as plt\n",
        "%matplotlib inline\n",
        "import seaborn as sns\n",
        "import warnings\n",
        "warnings.filterwarnings(\"ignore\")\n",
        "from sklearn.model_selection import train_test_split\n",
        "from sklearn.feature_extraction.text import CountVectorizer\n",
        "from sklearn.neighbors import KNeighborsClassifier\n",
        "from sklearn.metrics import confusion_matrix\n",
        "from sklearn.metrics.classification import accuracy_score, log_loss\n",
        "from sklearn.calibration import CalibratedClassifierCV\n",
        "from collections import Counter\n",
        "from sklearn.naive_bayes import MultinomialNB\n",
        "from sklearn.linear_model import LogisticRegression\n",
        "from sklearn.ensemble import RandomForestClassifier\n",
        "from sklearn.linear_model import SGDClassifier\n",
        "from xgboost import XGBClassifier\n",
        "from sklearn.model_selection import RandomizedSearchCV"
      ],
      "execution_count": 2,
      "outputs": []
    },
    {
      "cell_type": "code",
      "metadata": {
        "id": "8CKQ8S7Hrf8z"
      },
      "source": [
        "df=pd.read_csv('/content/drive/MyDrive/preprocessed_data_fake_real_news.csv')"
      ],
      "execution_count": 3,
      "outputs": []
    },
    {
      "cell_type": "code",
      "metadata": {
        "colab": {
          "base_uri": "https://localhost:8080/",
          "height": 195
        },
        "id": "0Ie41HXFrf8z",
        "outputId": "23b8f145-e4aa-4f6c-f51f-64cb0e2ad3d9"
      },
      "source": [
        "df.head()"
      ],
      "execution_count": 4,
      "outputs": [
        {
          "output_type": "execute_result",
          "data": {
            "text/html": [
              "<div>\n",
              "<style scoped>\n",
              "    .dataframe tbody tr th:only-of-type {\n",
              "        vertical-align: middle;\n",
              "    }\n",
              "\n",
              "    .dataframe tbody tr th {\n",
              "        vertical-align: top;\n",
              "    }\n",
              "\n",
              "    .dataframe thead th {\n",
              "        text-align: right;\n",
              "    }\n",
              "</style>\n",
              "<table border=\"1\" class=\"dataframe\">\n",
              "  <thead>\n",
              "    <tr style=\"text-align: right;\">\n",
              "      <th></th>\n",
              "      <th>Unnamed: 0</th>\n",
              "      <th>title</th>\n",
              "      <th>text</th>\n",
              "      <th>subject</th>\n",
              "      <th>date</th>\n",
              "      <th>target</th>\n",
              "      <th>original</th>\n",
              "    </tr>\n",
              "  </thead>\n",
              "  <tbody>\n",
              "    <tr>\n",
              "      <th>0</th>\n",
              "      <td>0</td>\n",
              "      <td>Donald Trump Sends Out Embarrassing New Year’...</td>\n",
              "      <td>Donald Trump just couldn t wish all Americans ...</td>\n",
              "      <td>News</td>\n",
              "      <td>December 31, 2017</td>\n",
              "      <td>0</td>\n",
              "      <td>donald trump just couldn t wish all americans ...</td>\n",
              "    </tr>\n",
              "    <tr>\n",
              "      <th>1</th>\n",
              "      <td>1</td>\n",
              "      <td>Drunk Bragging Trump Staffer Started Russian ...</td>\n",
              "      <td>House Intelligence Committee Chairman Devin Nu...</td>\n",
              "      <td>News</td>\n",
              "      <td>December 31, 2017</td>\n",
              "      <td>0</td>\n",
              "      <td>house intelligence committee chairman devin nu...</td>\n",
              "    </tr>\n",
              "    <tr>\n",
              "      <th>2</th>\n",
              "      <td>2</td>\n",
              "      <td>Sheriff David Clarke Becomes An Internet Joke...</td>\n",
              "      <td>On Friday, it was revealed that former Milwauk...</td>\n",
              "      <td>News</td>\n",
              "      <td>December 30, 2017</td>\n",
              "      <td>0</td>\n",
              "      <td>on friday it was revealed that former milwauke...</td>\n",
              "    </tr>\n",
              "    <tr>\n",
              "      <th>3</th>\n",
              "      <td>3</td>\n",
              "      <td>Trump Is So Obsessed He Even Has Obama’s Name...</td>\n",
              "      <td>On Christmas day, Donald Trump announced that ...</td>\n",
              "      <td>News</td>\n",
              "      <td>December 29, 2017</td>\n",
              "      <td>0</td>\n",
              "      <td>on christmas day donald trump announced that h...</td>\n",
              "    </tr>\n",
              "    <tr>\n",
              "      <th>4</th>\n",
              "      <td>4</td>\n",
              "      <td>Pope Francis Just Called Out Donald Trump Dur...</td>\n",
              "      <td>Pope Francis used his annual Christmas Day mes...</td>\n",
              "      <td>News</td>\n",
              "      <td>December 25, 2017</td>\n",
              "      <td>0</td>\n",
              "      <td>pope francis used his annual christmas day mes...</td>\n",
              "    </tr>\n",
              "  </tbody>\n",
              "</table>\n",
              "</div>"
            ],
            "text/plain": [
              "   Unnamed: 0  ...                                           original\n",
              "0           0  ...  donald trump just couldn t wish all americans ...\n",
              "1           1  ...  house intelligence committee chairman devin nu...\n",
              "2           2  ...  on friday it was revealed that former milwauke...\n",
              "3           3  ...  on christmas day donald trump announced that h...\n",
              "4           4  ...  pope francis used his annual christmas day mes...\n",
              "\n",
              "[5 rows x 7 columns]"
            ]
          },
          "metadata": {
            "tags": []
          },
          "execution_count": 4
        }
      ]
    },
    {
      "cell_type": "code",
      "metadata": {
        "id": "92OCreAUrf80"
      },
      "source": [
        "X = df.drop(['Unnamed: 0','title','text','subject','date','target'], axis=1)\n",
        "Y = df['target'].values"
      ],
      "execution_count": null,
      "outputs": []
    },
    {
      "cell_type": "code",
      "metadata": {
        "id": "tnIXiueRrf81",
        "outputId": "3fc43b30-5605-46d0-e827-121102a3f3c7"
      },
      "source": [
        "X_train,X_test,Y_train,Y_test=train_test_split(X,Y,test_size=0.33,stratify=Y)\n",
        "X_train,X_cv,Y_train,Y_cv=train_test_split(X_train,Y_train,test_size=0.33,stratify=Y_train)\n",
        "print(\"X_train shape:\",X_train.shape)\n",
        "print(\"X_test shape:\",X_test.shape)\n",
        "print(\"Y_train shape:\",Y_train.shape)\n",
        "print(\"Y_test shape:\",Y_test.shape)\n",
        "print(\"X_cv shape:\",X_cv.shape)\n",
        "print(\"Y_cv shape:\",Y_cv.shape)"
      ],
      "execution_count": null,
      "outputs": [
        {
          "output_type": "stream",
          "text": [
            "X_train shape: (20154, 1)\n",
            "X_test shape: (14817, 1)\n",
            "Y_train shape: (20154,)\n",
            "Y_test shape: (14817,)\n",
            "X_cv shape: (9927, 1)\n",
            "Y_cv shape: (9927,)\n"
          ],
          "name": "stdout"
        }
      ]
    },
    {
      "cell_type": "markdown",
      "metadata": {
        "id": "GGTHmtK8rf81"
      },
      "source": [
        "#### a.Applying BOW(Bag Of Words)"
      ]
    },
    {
      "cell_type": "code",
      "metadata": {
        "id": "KGytjuu0rf82",
        "outputId": "e3071f68-43f1-4284-c65a-6fafe0cef211"
      },
      "source": [
        "vectorizer = CountVectorizer()\n",
        "vectorizer.fit(X_train['original'].values) # fit has to happen only on train data\n",
        "\n",
        "# we use the fitted CountVectorizer to convert the text to vector\n",
        "X_train_essay_bow = vectorizer.transform(X_train['original'].values)\n",
        "X_cv_essay_bow = vectorizer.transform(X_cv['original'].values)\n",
        "X_test_essay_bow = vectorizer.transform(X_test['original'].values)\n",
        "\n",
        "print(\"After vectorizations\")\n",
        "print(\"=\"*100)\n",
        "print(\"shape of the matrix of X_train_eassy\",X_train_essay_bow.shape, Y_train.shape)\n",
        "print(\"shape of the matrix of X_cv_eassy\",X_cv_essay_bow.shape, Y_cv.shape)\n",
        "print(\"shape of the matrix of X_test_eassy\",X_test_essay_bow.shape, Y_test.shape)\n",
        "print(\"=\"*100)"
      ],
      "execution_count": null,
      "outputs": [
        {
          "output_type": "stream",
          "text": [
            "After vectorizations\n",
            "====================================================================================================\n",
            "shape of the matrix of X_train_eassy (20154, 87163) (20154,)\n",
            "shape of the matrix of X_cv_eassy (9927, 87163) (9927,)\n",
            "shape of the matrix of X_test_eassy (14817, 87163) (14817,)\n",
            "====================================================================================================\n"
          ],
          "name": "stdout"
        }
      ]
    },
    {
      "cell_type": "markdown",
      "metadata": {
        "id": "-oGszBRerf82"
      },
      "source": [
        "## Applying Machine Learning Models"
      ]
    },
    {
      "cell_type": "markdown",
      "metadata": {
        "id": "kqTzamXMrf82"
      },
      "source": [
        "#### a.KNN Classifier"
      ]
    },
    {
      "cell_type": "code",
      "metadata": {
        "id": "uc5Q5A7xrf83"
      },
      "source": [
        "# This function plots the confusion matrices given y_i, y_i_hat.\n",
        "def plot_confusion_matrix(test_y, predict_y):\n",
        "    C = confusion_matrix(test_y, predict_y)\n",
        "    # C = 9,9 matrix, each cell (i,j) represents number of points of class i are predicted class j\n",
        "    \n",
        "    A =(((C.T)/(C.sum(axis=1))).T)\n",
        "    #divid each element of the confusion matrix with the sum of elements in that column\n",
        "    \n",
        "    # C = [[1, 2],\n",
        "    #     [3, 4]]\n",
        "    # C.T = [[1, 3],\n",
        "    #        [2, 4]]\n",
        "    # C.sum(axis = 1)  axis=0 corresonds to columns and axis=1 corresponds to rows in two diamensional array\n",
        "    # C.sum(axix =1) = [[3, 7]]\n",
        "    # ((C.T)/(C.sum(axis=1))) = [[1/3, 3/7]\n",
        "    #                           [2/3, 4/7]]\n",
        "\n",
        "    # ((C.T)/(C.sum(axis=1))).T = [[1/3, 2/3]\n",
        "    #                           [3/7, 4/7]]\n",
        "    # sum of row elements = 1\n",
        "    \n",
        "    B =(C/C.sum(axis=0))\n",
        "    #divid each element of the confusion matrix with the sum of elements in that row\n",
        "    # C = [[1, 2],\n",
        "    #     [3, 4]]\n",
        "    # C.sum(axis = 0)  axis=0 corresonds to columns and axis=1 corresponds to rows in two diamensional array\n",
        "    # C.sum(axix =0) = [[4, 6]]\n",
        "    # (C/C.sum(axis=0)) = [[1/4, 2/6],\n",
        "    #                      [3/4, 4/6]] \n",
        "    \n",
        "    labels = [0,1]\n",
        "    # representing A in heatmap format\n",
        "    print(\"-\"*20, \"Confusion matrix\", \"-\"*20)\n",
        "    plt.figure(figsize=(6,4))\n",
        "    sns.heatmap(C, annot=True, cmap=\"YlGnBu\", fmt=\".3f\", xticklabels=labels, yticklabels=labels)\n",
        "    plt.xlabel('Predicted Class')\n",
        "    plt.ylabel('Original Class')\n",
        "    plt.show()\n",
        "\n",
        "    print(\"-\"*20, \"Precision matrix (Columm Sum=1)\", \"-\"*20)\n",
        "    plt.figure(figsize=(6,4))\n",
        "    sns.heatmap(B, annot=True, cmap=\"YlGnBu\", fmt=\".3f\", xticklabels=labels, yticklabels=labels)\n",
        "    plt.xlabel('Predicted Class')\n",
        "    plt.ylabel('Original Class')\n",
        "    plt.show()\n",
        "    \n",
        "    # representing B in heatmap format\n",
        "    print(\"-\"*20, \"Recall matrix (Row sum=1)\", \"-\"*20)\n",
        "    plt.figure(figsize=(6,4))\n",
        "    sns.heatmap(A, annot=True, cmap=\"YlGnBu\", fmt=\".3f\", xticklabels=labels, yticklabels=labels)\n",
        "    plt.xlabel('Predicted Class')\n",
        "    plt.ylabel('Original Class')\n",
        "    plt.show()"
      ],
      "execution_count": null,
      "outputs": []
    },
    {
      "cell_type": "code",
      "metadata": {
        "id": "mrsYHmnArf83"
      },
      "source": [
        "#Data preparation for ML models.\n",
        "\n",
        "#Misc. functionns for ML models\n",
        "\n",
        "\n",
        "def predict_and_plot_confusion_matrix(train_x, train_y,test_x, test_y, clf):\n",
        "    clf.fit(train_x, train_y)\n",
        "    sig_clf = CalibratedClassifierCV(clf, method=\"sigmoid\")\n",
        "    sig_clf.fit(train_x, train_y)\n",
        "    pred_y = sig_clf.predict(test_x)\n",
        "\n",
        "    # for calculating log_loss we willl provide the array of probabilities belongs to each class\n",
        "    print(\"Log loss :\",log_loss(test_y, sig_clf.predict_proba(test_x)))\n",
        "    # calculating the number of data points that are misclassified\n",
        "    print(\"Number of mis-classified points :\", np.count_nonzero((pred_y- test_y))/test_y.shape[0])\n",
        "    plot_confusion_matrix(test_y, pred_y)"
      ],
      "execution_count": null,
      "outputs": []
    },
    {
      "cell_type": "code",
      "metadata": {
        "id": "51l2OpJfrf84"
      },
      "source": [
        "def report_log_loss(train_x, train_y, test_x, test_y,  clf):\n",
        "    clf.fit(train_x, train_y)\n",
        "    sig_clf = CalibratedClassifierCV(clf, method=\"sigmoid\")\n",
        "    sig_clf.fit(train_x, train_y)\n",
        "    sig_clf_probs = sig_clf.predict_proba(test_x)\n",
        "    return log_loss(test_y, sig_clf_probs, eps=1e-15)"
      ],
      "execution_count": null,
      "outputs": []
    },
    {
      "cell_type": "code",
      "metadata": {
        "id": "WXx23vr1rf84",
        "outputId": "7154db04-d166-4a0f-bd68-928e93c49694"
      },
      "source": [
        "alpha = [5, 11, 15, 21, 31, 41, 51, 99]\n",
        "cv_log_error_array = []\n",
        "for i in alpha:\n",
        "    print(\"for alpha =\", i)\n",
        "    clf = KNeighborsClassifier(n_neighbors=i)\n",
        "    clf.fit(X_train_essay_bow,Y_train)\n",
        "    sig_clf = CalibratedClassifierCV(clf, method=\"sigmoid\")\n",
        "    sig_clf.fit(X_train_essay_bow,Y_train)\n",
        "    \n",
        "    sig_clf_probs = sig_clf.predict_proba(X_cv_essay_bow)\n",
        "    cv_log_error_array.append(log_loss(Y_cv, sig_clf_probs, labels=clf.classes_, eps=1e-15))\n",
        "    # to avoid rounding error while multiplying probabilites we use log-probability estimates\n",
        "    print(\"Log Loss :\",log_loss(Y_cv, sig_clf_probs)) \n",
        "\n",
        "fig, ax = plt.subplots()\n",
        "ax.plot(alpha, cv_log_error_array,c='g')\n",
        "for i, txt in enumerate(np.round(cv_log_error_array,3)):\n",
        "    ax.annotate((alpha[i],str(txt)), (alpha[i],cv_log_error_array[i]))\n",
        "plt.grid()\n",
        "plt.title(\"Cross Validation Error for each alpha\")\n",
        "plt.xlabel(\"Alpha i's\")\n",
        "plt.ylabel(\"Error measure\")\n",
        "plt.show()\n",
        "\n",
        "\n",
        "best_alpha = np.argmin(cv_log_error_array)\n",
        "clf = KNeighborsClassifier(n_neighbors=alpha[best_alpha])\n",
        "clf.fit(X_train_essay_bow,Y_train)\n",
        "sig_clf = CalibratedClassifierCV(clf, method=\"sigmoid\")\n",
        "sig_clf.fit(X_train_essay_bow,Y_train)\n",
        "\n",
        "predict_y = sig_clf.predict_proba(X_train_essay_bow)\n",
        "print('For values of best alpha = ', alpha[best_alpha], \"The train log loss is:\",log_loss(Y_train, predict_y, labels=clf.classes_, eps=1e-15))\n",
        "predict_y = sig_clf.predict_proba(X_cv_essay_bow)\n",
        "print('For values of best alpha = ', alpha[best_alpha], \"The cross validation log loss is:\",log_loss(Y_cv, predict_y, labels=clf.classes_, eps=1e-15))\n",
        "predict_y = sig_clf.predict_proba(X_test_essay_bow)\n",
        "print('For values of best alpha = ', alpha[best_alpha], \"The test log loss is:\",log_loss(Y_test, predict_y, labels=clf.classes_, eps=1e-15))\n"
      ],
      "execution_count": null,
      "outputs": [
        {
          "output_type": "stream",
          "text": [
            "for alpha = 5\n",
            "Log Loss : 0.3528209532591348\n",
            "for alpha = 11\n",
            "Log Loss : 0.3720808396171922\n",
            "for alpha = 15\n",
            "Log Loss : 0.3810486547903741\n",
            "for alpha = 21\n",
            "Log Loss : 0.3913849862935935\n",
            "for alpha = 31\n",
            "Log Loss : 0.40489001523006696\n",
            "for alpha = 41\n",
            "Log Loss : 0.415914689622446\n",
            "for alpha = 51\n",
            "Log Loss : 0.4258118394134389\n",
            "for alpha = 99\n",
            "Log Loss : 0.4567759751232976\n"
          ],
          "name": "stdout"
        },
        {
          "output_type": "display_data",
          "data": {
            "image/png": "[encoded data removed]",
            "text/plain": [
              "<Figure size 432x288 with 1 Axes>"
            ]
          },
          "metadata": {
            "tags": [],
            "needs_background": "light"
          }
        },
        {
          "output_type": "stream",
          "text": [
            "For values of best alpha =  5 The train log loss is: 0.26917863578536655\n",
            "For values of best alpha =  5 The cross validation log loss is: 0.3528209532591348\n",
            "For values of best alpha =  5 The test log loss is: 0.3612242710079023\n"
          ],
          "name": "stdout"
        }
      ]
    },
    {
      "cell_type": "code",
      "metadata": {
        "id": "gV-2lKDzrf85",
        "outputId": "4402be0a-9e9a-4f53-a320-97cb98d06ef0"
      },
      "source": [
        "# find more about KNeighborsClassifier() here http://scikit-learn.org/stable/modules/generated/sklearn.neighbors.KNeighborsClassifier.html\n",
        "# -------------------------\n",
        "# default parameter\n",
        "# KNeighborsClassifier(n_neighbors=5, weights=’uniform’, algorithm=’auto’, leaf_size=30, p=2, \n",
        "# metric=’minkowski’, metric_params=None, n_jobs=1, **kwargs)\n",
        "\n",
        "# methods of\n",
        "# fit(X, y) : Fit the model using X as training data and y as target values\n",
        "# predict(X):Predict the class labels for the provided data\n",
        "# predict_proba(X):Return probability estimates for the test data X.\n",
        "#-------------------------------------\n",
        "# video link: https://www.appliedaicourse.com/course/applied-ai-course-online/lessons/k-nearest-neighbors-geometric-intuition-with-a-toy-example-1/\n",
        "#-------------------------------------\n",
        "clf = KNeighborsClassifier(n_neighbors=alpha[best_alpha])\n",
        "predict_and_plot_confusion_matrix(X_train_essay_bow,Y_train,X_cv_essay_bow, Y_cv, clf)"
      ],
      "execution_count": null,
      "outputs": [
        {
          "output_type": "stream",
          "text": [
            "Log loss : 0.3528209532591348\n",
            "Number of mis-classified points : 0.13901480809912362\n",
            "-------------------- Confusion matrix --------------------\n"
          ],
          "name": "stdout"
        },
        {
          "output_type": "display_data",
          "data": {
            "image/png": "[encoded data removed]",
            "text/plain": [
              "<Figure size 432x288 with 2 Axes>"
            ]
          },
          "metadata": {
            "tags": [],
            "needs_background": "light"
          }
        },
        {
          "output_type": "stream",
          "text": [
            "-------------------- Precision matrix (Columm Sum=1) --------------------\n"
          ],
          "name": "stdout"
        },
        {
          "output_type": "display_data",
          "data": {
            "image/png": "[encoded data removed]",
            "text/plain": [
              "<Figure size 432x288 with 2 Axes>"
            ]
          },
          "metadata": {
            "tags": [],
            "needs_background": "light"
          }
        },
        {
          "output_type": "stream",
          "text": [
            "-------------------- Recall matrix (Row sum=1) --------------------\n"
          ],
          "name": "stdout"
        },
        {
          "output_type": "display_data",
          "data": {
            "image/png": "[encoded data removed]",
            "text/plain": [
              "<Figure size 432x288 with 2 Axes>"
            ]
          },
          "metadata": {
            "tags": [],
            "needs_background": "light"
          }
        }
      ]
    },
    {
      "cell_type": "markdown",
      "metadata": {
        "id": "UT7yANLorf86"
      },
      "source": [
        "#### testing one query point1"
      ]
    },
    {
      "cell_type": "code",
      "metadata": {
        "id": "xZKA91i1rf86",
        "outputId": "c0efb760-1131-4c4e-8e86-4f04e2391250"
      },
      "source": [
        "clf = KNeighborsClassifier(n_neighbors=alpha[best_alpha])\n",
        "clf.fit(X_train_essay_bow,Y_train)\n",
        "sig_clf = CalibratedClassifierCV(clf, method=\"sigmoid\")\n",
        "sig_clf.fit(X_train_essay_bow,Y_train)\n",
        "\n",
        "test_point_index = 10\n",
        "\n",
        "predicted_cls = sig_clf.predict(X_test_essay_bow[test_point_index].reshape(1,-1))\n",
        "print(\"Predicted Class :\", predicted_cls[0])\n",
        "print(\"Actual Class :\", Y_test[test_point_index])\n",
        "neighbors = clf.kneighbors(X_test_essay_bow[test_point_index].reshape(1, -1), alpha[best_alpha])\n",
        "print(\"the k value for knn is\",alpha[best_alpha],\"and the nearest neighbours of the test points belongs to classes\",\n",
        "      Y_train[neighbors[1][0]])\n",
        "print(\"Fequency of nearest points :\",Counter(Y_train[neighbors[1][0]]))"
      ],
      "execution_count": null,
      "outputs": [
        {
          "output_type": "stream",
          "text": [
            "Predicted Class : 1\n",
            "Actual Class : 1\n",
            "the k value for knn is 5 and the nearest neighbours of the test points belongs to classes [1 1 1 1 1]\n",
            "Fequency of nearest points : Counter({1: 5})\n"
          ],
          "name": "stdout"
        }
      ]
    },
    {
      "cell_type": "markdown",
      "metadata": {
        "id": "n1d4u1MMrf86"
      },
      "source": [
        "#### testing one query point2"
      ]
    },
    {
      "cell_type": "code",
      "metadata": {
        "id": "p2ND0cl5rf87",
        "outputId": "be682804-9b15-42a3-ea8b-c8e59191bd4e"
      },
      "source": [
        "clf = KNeighborsClassifier(n_neighbors=alpha[best_alpha])\n",
        "clf.fit(X_train_essay_bow,Y_train)\n",
        "sig_clf = CalibratedClassifierCV(clf, method=\"sigmoid\")\n",
        "sig_clf.fit(X_train_essay_bow,Y_train)\n",
        "\n",
        "test_point_index = -1\n",
        "\n",
        "predicted_cls = sig_clf.predict(X_test_essay_bow[test_point_index].reshape(1,-1))\n",
        "print(\"Predicted Class :\", predicted_cls[0])\n",
        "print(\"Actual Class :\", Y_test[test_point_index])\n",
        "neighbors = clf.kneighbors(X_test_essay_bow[test_point_index].reshape(1, -1), alpha[best_alpha])\n",
        "print(\"the k value for knn is\",alpha[best_alpha],\"and the nearest neighbours of the test points belongs to classes\",\n",
        "      Y_train[neighbors[1][0]])\n",
        "print(\"Fequency of nearest points :\",Counter(Y_train[neighbors[1][0]]))"
      ],
      "execution_count": null,
      "outputs": [
        {
          "output_type": "stream",
          "text": [
            "Predicted Class : 0\n",
            "Actual Class : 0\n",
            "the k value for knn is 5 and the nearest neighbours of the test points belongs to classes [0 0 0 0 0]\n",
            "Fequency of nearest points : Counter({0: 5})\n"
          ],
          "name": "stdout"
        }
      ]
    },
    {
      "cell_type": "markdown",
      "metadata": {
        "id": "nar6awMYrf87"
      },
      "source": [
        "#### b.Naive bayes"
      ]
    },
    {
      "cell_type": "code",
      "metadata": {
        "id": "NT0ec5eLrf87",
        "outputId": "8bfa3912-9359-42ef-d1e1-ad31c8140183"
      },
      "source": [
        "# find more about Multinomial Naive base function here http://scikit-learn.org/stable/modules/generated/sklearn.naive_bayes.MultinomialNB.html\n",
        "# -------------------------\n",
        "# default paramters\n",
        "# sklearn.naive_bayes.MultinomialNB(alpha=1.0, fit_prior=True, class_prior=None)\n",
        "\n",
        "# some of methods of MultinomialNB()\n",
        "# fit(X, y[, sample_weight])\tFit Naive Bayes classifier according to X, y\n",
        "# predict(X)\tPerform classification on an array of test vectors X.\n",
        "# predict_log_proba(X)\tReturn log-probability estimates for the test vector X.\n",
        "# -----------------------\n",
        "# video link: https://www.appliedaicourse.com/course/applied-ai-course-online/lessons/naive-bayes-algorithm-1/\n",
        "# -----------------------\n",
        "\n",
        "\n",
        "# find more about CalibratedClassifierCV here at http://scikit-learn.org/stable/modules/generated/sklearn.calibration.CalibratedClassifierCV.html\n",
        "# ----------------------------\n",
        "# default paramters\n",
        "# sklearn.calibration.CalibratedClassifierCV(base_estimator=None, method=’sigmoid’, cv=3)\n",
        "#\n",
        "# some of the methods of CalibratedClassifierCV()\n",
        "# fit(X, y[, sample_weight])\tFit the calibrated model\n",
        "# get_params([deep])\tGet parameters for this estimator.\n",
        "# predict(X)\tPredict the target of new samples.\n",
        "# predict_proba(X)\tPosterior probabilities of classification\n",
        "# ----------------------------\n",
        "# video link: https://www.appliedaicourse.com/course/applied-ai-course-online/lessons/naive-bayes-algorithm-1/\n",
        "# -----------------------\n",
        "\n",
        "\n",
        "alpha = [0.00001, 0.0001, 0.001, 0.1, 1, 10, 100,1000]\n",
        "cv_log_error_array = []\n",
        "for i in alpha:\n",
        "    print(\"for alpha =\", i)\n",
        "    clf = MultinomialNB(alpha=i)\n",
        "    clf.fit(X_train_essay_bow,Y_train)\n",
        "    sig_clf = CalibratedClassifierCV(clf, method=\"sigmoid\")\n",
        "    sig_clf.fit(X_train_essay_bow,Y_train)\n",
        "    sig_clf_probs = sig_clf.predict_proba(X_cv_essay_bow)\n",
        "    cv_log_error_array.append(log_loss(Y_cv, sig_clf_probs, labels=clf.classes_, eps=1e-15))\n",
        "    # to avoid rounding error while multiplying probabilites we use log-probability estimates\n",
        "    print(\"Log Loss :\",log_loss(Y_cv, sig_clf_probs)) \n",
        "\n",
        "fig, ax = plt.subplots()\n",
        "ax.plot(np.log10(alpha), cv_log_error_array,c='g')\n",
        "for i, txt in enumerate(np.round(cv_log_error_array,3)):\n",
        "    ax.annotate((alpha[i],str(txt)), (np.log10(alpha[i]),cv_log_error_array[i]))\n",
        "plt.grid()\n",
        "plt.xticks(np.log10(alpha))\n",
        "plt.title(\"Cross Validation Error for each alpha\")\n",
        "plt.xlabel(\"Alpha i's\")\n",
        "plt.ylabel(\"Error measure\")\n",
        "plt.show()\n",
        "\n",
        "\n",
        "best_alpha = np.argmin(cv_log_error_array)\n",
        "clf = MultinomialNB(alpha=alpha[best_alpha])\n",
        "clf.fit(X_train_essay_bow,Y_train)\n",
        "sig_clf = CalibratedClassifierCV(clf, method=\"sigmoid\")\n",
        "sig_clf.fit(X_train_essay_bow,Y_train)\n",
        "\n",
        "\n",
        "predict_y = sig_clf.predict_proba(X_train_essay_bow)\n",
        "print('For values of best alpha = ', alpha[best_alpha], \"The train log loss is:\",log_loss(Y_train, predict_y, labels=clf.classes_, eps=1e-15))\n",
        "predict_y = sig_clf.predict_proba(X_cv_essay_bow)\n",
        "print('For values of best alpha = ', alpha[best_alpha], \"The cross validation log loss is:\",log_loss(Y_cv, predict_y, labels=clf.classes_, eps=1e-15))\n",
        "predict_y = sig_clf.predict_proba(X_test_essay_bow)\n",
        "print('For values of best alpha = ', alpha[best_alpha], \"The test log loss is:\",log_loss(Y_test, predict_y, labels=clf.classes_, eps=1e-15))\n"
      ],
      "execution_count": null,
      "outputs": [
        {
          "output_type": "stream",
          "text": [
            "for alpha = 1e-05\n",
            "Log Loss : 0.15337634422092966\n",
            "for alpha = 0.0001\n",
            "Log Loss : 0.15447349638646868\n",
            "for alpha = 0.001\n",
            "Log Loss : 0.1561362851798946\n",
            "for alpha = 0.1\n",
            "Log Loss : 0.1678562934321899\n",
            "for alpha = 1\n",
            "Log Loss : 0.17770222321503817\n",
            "for alpha = 10\n",
            "Log Loss : 0.18821898104304619\n",
            "for alpha = 100\n",
            "Log Loss : 0.2846055677620939\n",
            "for alpha = 1000\n",
            "Log Loss : 0.4844279824692316\n"
          ],
          "name": "stdout"
        },
        {
          "output_type": "display_data",
          "data": {
            "image/png": "[encoded data removed]",
            "text/plain": [
              "<Figure size 432x288 with 1 Axes>"
            ]
          },
          "metadata": {
            "tags": [],
            "needs_background": "light"
          }
        },
        {
          "output_type": "stream",
          "text": [
            "For values of best alpha =  1e-05 The train log loss is: 0.09072522607806416\n",
            "For values of best alpha =  1e-05 The cross validation log loss is: 0.15337634422092966\n",
            "For values of best alpha =  1e-05 The test log loss is: 0.16072743043393356\n"
          ],
          "name": "stdout"
        }
      ]
    },
    {
      "cell_type": "code",
      "metadata": {
        "id": "cYbJNepPrf88",
        "outputId": "7165707d-ff10-403a-8653-7d8d206dd349"
      },
      "source": [
        "# find more about KNeighborsClassifier() here http://scikit-learn.org/stable/modules/generated/sklearn.neighbors.KNeighborsClassifier.html\n",
        "# -------------------------\n",
        "# default parameter\n",
        "# KNeighborsClassifier(n_neighbors=5, weights=’uniform’, algorithm=’auto’, leaf_size=30, p=2, \n",
        "# metric=’minkowski’, metric_params=None, n_jobs=1, **kwargs)\n",
        "\n",
        "# methods of\n",
        "# fit(X, y) : Fit the model using X as training data and y as target values\n",
        "# predict(X):Predict the class labels for the provided data\n",
        "# predict_proba(X):Return probability estimates for the test data X.\n",
        "#-------------------------------------\n",
        "# video link: https://www.appliedaicourse.com/course/applied-ai-course-online/lessons/k-nearest-neighbors-geometric-intuition-with-a-toy-example-1/\n",
        "#-------------------------------------\n",
        "clf = MultinomialNB(alpha=alpha[best_alpha])\n",
        "predict_and_plot_confusion_matrix(X_train_essay_bow,Y_train,X_cv_essay_bow, Y_cv, clf)"
      ],
      "execution_count": null,
      "outputs": [
        {
          "output_type": "stream",
          "text": [
            "Log loss : 0.15337634422092966\n",
            "Number of mis-classified points : 0.04029414727510829\n",
            "-------------------- Confusion matrix --------------------\n"
          ],
          "name": "stdout"
        },
        {
          "output_type": "display_data",
          "data": {
            "image/png": "[encoded data removed]",
            "text/plain": [
              "<Figure size 432x288 with 2 Axes>"
            ]
          },
          "metadata": {
            "tags": [],
            "needs_background": "light"
          }
        },
        {
          "output_type": "stream",
          "text": [
            "-------------------- Precision matrix (Columm Sum=1) --------------------\n"
          ],
          "name": "stdout"
        },
        {
          "output_type": "display_data",
          "data": {
            "image/png": "[encoded data removed]",
            "text/plain": [
              "<Figure size 432x288 with 2 Axes>"
            ]
          },
          "metadata": {
            "tags": [],
            "needs_background": "light"
          }
        },
        {
          "output_type": "stream",
          "text": [
            "-------------------- Recall matrix (Row sum=1) --------------------\n"
          ],
          "name": "stdout"
        },
        {
          "output_type": "display_data",
          "data": {
            "image/png": "[encoded data removed]",
            "text/plain": [
              "<Figure size 432x288 with 2 Axes>"
            ]
          },
          "metadata": {
            "tags": [],
            "needs_background": "light"
          }
        }
      ]
    },
    {
      "cell_type": "markdown",
      "metadata": {
        "id": "fbQMeakbrf88"
      },
      "source": [
        "#### Query point1"
      ]
    },
    {
      "cell_type": "code",
      "metadata": {
        "id": "FiQKVMSMrf88",
        "outputId": "58652bd9-8f15-405d-ccee-25cd7b4652a9"
      },
      "source": [
        "clf = MultinomialNB(alpha=alpha[best_alpha])\n",
        "clf.fit(X_train_essay_bow,Y_train)\n",
        "sig_clf = CalibratedClassifierCV(clf, method=\"sigmoid\")\n",
        "sig_clf.fit(X_train_essay_bow,Y_train)\n",
        "\n",
        "test_point_index = 100\n",
        "\n",
        "predicted_cls = sig_clf.predict(X_test_essay_bow[test_point_index].reshape(1,-1))\n",
        "print(\"Predicted Class :\", predicted_cls[0])\n",
        "print(\"Actual Class :\", Y_test[test_point_index])"
      ],
      "execution_count": null,
      "outputs": [
        {
          "output_type": "stream",
          "text": [
            "Predicted Class : 1\n",
            "Actual Class : 1\n"
          ],
          "name": "stdout"
        }
      ]
    },
    {
      "cell_type": "markdown",
      "metadata": {
        "id": "mpgZgv8Jrf89"
      },
      "source": [
        "#### Query point2"
      ]
    },
    {
      "cell_type": "code",
      "metadata": {
        "id": "gNmyb9MRrf89",
        "outputId": "315083c4-e14f-4638-c91a-a9b43ffdb088"
      },
      "source": [
        "clf = MultinomialNB(alpha=alpha[best_alpha])\n",
        "clf.fit(X_train_essay_bow,Y_train)\n",
        "sig_clf = CalibratedClassifierCV(clf, method=\"sigmoid\")\n",
        "sig_clf.fit(X_train_essay_bow,Y_train)\n",
        "\n",
        "test_point_index = 20\n",
        "\n",
        "predicted_cls = sig_clf.predict(X_test_essay_bow[test_point_index].reshape(1,-1))\n",
        "print(\"Predicted Class :\", predicted_cls[0])\n",
        "print(\"Actual Class :\", Y_test[test_point_index])"
      ],
      "execution_count": null,
      "outputs": [
        {
          "output_type": "stream",
          "text": [
            "Predicted Class : 0\n",
            "Actual Class : 1\n"
          ],
          "name": "stdout"
        }
      ]
    },
    {
      "cell_type": "markdown",
      "metadata": {
        "id": "aP56mq5Arf89"
      },
      "source": [
        "#### c.LogisticRegression"
      ]
    },
    {
      "cell_type": "code",
      "metadata": {
        "id": "pT55IRKkrf89",
        "outputId": "84772c49-fe24-4fc8-db97-ad641e12aaa9"
      },
      "source": [
        "# read more about SGDClassifier() at http://scikit-learn.org/stable/modules/generated/sklearn.linear_model.SGDClassifier.html\n",
        "# ------------------------------\n",
        "# default parameters\n",
        "# SGDClassifier(loss=’hinge’, penalty=’l2’, alpha=0.0001, l1_ratio=0.15, fit_intercept=True, max_iter=None, tol=None, \n",
        "# shuffle=True, verbose=0, epsilon=0.1, n_jobs=1, random_state=None, learning_rate=’optimal’, eta0=0.0, power_t=0.5, \n",
        "# class_weight=None, warm_start=False, average=False, n_iter=None)\n",
        "\n",
        "# some of methods\n",
        "# fit(X, y[, coef_init, intercept_init, …])\tFit linear model with Stochastic Gradient Descent.\n",
        "# predict(X)\tPredict class labels for samples in X.\n",
        "\n",
        "#-------------------------------\n",
        "# video link: https://www.appliedaicourse.com/course/applied-ai-course-online/lessons/geometric-intuition-1/\n",
        "#------------------------------\n",
        "\n",
        "\n",
        "\n",
        "# find more about CalibratedClassifierCV here at http://scikit-learn.org/stable/modules/generated/sklearn.calibration.CalibratedClassifierCV.html\n",
        "# ----------------------------\n",
        "# default paramters\n",
        "# sklearn.calibration.CalibratedClassifierCV(base_estimator=None, method=’sigmoid’, cv=3)\n",
        "#\n",
        "# some of the methods of CalibratedClassifierCV()\n",
        "# fit(X, y[, sample_weight])\tFit the calibrated model\n",
        "# get_params([deep])\tGet parameters for this estimator.\n",
        "# predict(X)\tPredict the target of new samples.\n",
        "# predict_proba(X)\tPosterior probabilities of classification\n",
        "#-------------------------------------\n",
        "# video link:\n",
        "#-------------------------------------\n",
        "\n",
        "alpha = [10 ** x for x in range(-6, 1)]\n",
        "cv_log_error_array = []\n",
        "for i in alpha:\n",
        "    print(\"for alpha =\", i)\n",
        "    clf = SGDClassifier(alpha=i, penalty='l2', loss='log', random_state=42)\n",
        "    clf.fit(X_train_essay_bow,Y_train)\n",
        "    sig_clf = CalibratedClassifierCV(clf, method=\"sigmoid\")\n",
        "    sig_clf.fit(X_train_essay_bow,Y_train)\n",
        "    sig_clf_probs = sig_clf.predict_proba(X_cv_essay_bow)\n",
        "    cv_log_error_array.append(log_loss(Y_cv, sig_clf_probs, labels=clf.classes_, eps=1e-15))\n",
        "    print(\"Log Loss :\",log_loss(Y_cv, sig_clf_probs)) \n",
        "\n",
        "fig, ax = plt.subplots()\n",
        "ax.plot(alpha, cv_log_error_array,c='g')\n",
        "for i, txt in enumerate(np.round(cv_log_error_array,3)):\n",
        "    ax.annotate((alpha[i],str(txt)), (alpha[i],cv_log_error_array[i]))\n",
        "plt.grid()\n",
        "plt.title(\"Cross Validation Error for each alpha\")\n",
        "plt.xlabel(\"Alpha i's\")\n",
        "plt.ylabel(\"Error measure\")\n",
        "plt.show()\n",
        "\n",
        "\n",
        "best_alpha = np.argmin(cv_log_error_array)\n",
        "clf = SGDClassifier(alpha=alpha[best_alpha], penalty='l2', loss='log', random_state=42)\n",
        "clf.fit(X_train_essay_bow,Y_train)\n",
        "sig_clf = CalibratedClassifierCV(clf, method=\"sigmoid\")\n",
        "sig_clf.fit(X_train_essay_bow,Y_train)\n",
        "\n",
        "predict_y = sig_clf.predict_proba(X_train_essay_bow)\n",
        "print('For values of best alpha = ', alpha[best_alpha], \"The train log loss is:\",log_loss(Y_train, predict_y, labels=clf.classes_, eps=1e-15))\n",
        "predict_y = sig_clf.predict_proba(X_cv_essay_bow)\n",
        "print('For values of best alpha = ', alpha[best_alpha], \"The cross validation log loss is:\",log_loss(Y_cv, predict_y, labels=clf.classes_, eps=1e-15))\n",
        "predict_y = sig_clf.predict_proba(X_test_essay_bow)\n",
        "print('For values of best alpha = ', alpha[best_alpha], \"The test log loss is:\",log_loss(Y_test, predict_y, labels=clf.classes_, eps=1e-15))"
      ],
      "execution_count": null,
      "outputs": [
        {
          "output_type": "stream",
          "text": [
            "for alpha = 1e-06\n",
            "Log Loss : 0.04270587810307537\n",
            "for alpha = 1e-05\n",
            "Log Loss : 0.041772227739337704\n",
            "for alpha = 0.0001\n",
            "Log Loss : 0.04220751594688325\n",
            "for alpha = 0.001\n",
            "Log Loss : 0.04180829580063045\n",
            "for alpha = 0.01\n",
            "Log Loss : 0.04998756740151969\n",
            "for alpha = 0.1\n",
            "Log Loss : 0.08916488945311585\n",
            "for alpha = 1\n",
            "Log Loss : 0.15140054782280912\n"
          ],
          "name": "stdout"
        },
        {
          "output_type": "display_data",
          "data": {
            "image/png": "[encoded data removed]",
            "text/plain": [
              "<Figure size 432x288 with 1 Axes>"
            ]
          },
          "metadata": {
            "tags": [],
            "needs_background": "light"
          }
        },
        {
          "output_type": "stream",
          "text": [
            "For values of best alpha =  1e-05 The train log loss is: 0.0203115204621974\n",
            "For values of best alpha =  1e-05 The cross validation log loss is: 0.041772227739337704\n",
            "For values of best alpha =  1e-05 The test log loss is: 0.03760632873227821\n"
          ],
          "name": "stdout"
        }
      ]
    },
    {
      "cell_type": "code",
      "metadata": {
        "id": "KOF58cv6rf8-",
        "outputId": "5b681cd1-c5bd-4f75-a780-fc0fb3d0de14"
      },
      "source": [
        "# read more about SGDClassifier() at http://scikit-learn.org/stable/modules/generated/sklearn.linear_model.SGDClassifier.html\n",
        "# ------------------------------\n",
        "# default parameters\n",
        "# SGDClassifier(loss=’hinge’, penalty=’l2’, alpha=0.0001, l1_ratio=0.15, fit_intercept=True, max_iter=None, tol=None, \n",
        "# shuffle=True, verbose=0, epsilon=0.1, n_jobs=1, random_state=None, learning_rate=’optimal’, eta0=0.0, power_t=0.5, \n",
        "# class_weight=None, warm_start=False, average=False, n_iter=None)\n",
        "\n",
        "# some of methods\n",
        "# fit(X, y[, coef_init, intercept_init, …])\tFit linear model with Stochastic Gradient Descent.\n",
        "# predict(X)\tPredict class labels for samples in X.\n",
        "\n",
        "#-------------------------------\n",
        "# video link: \n",
        "#------------------------------\n",
        "\n",
        "clf = SGDClassifier(alpha=alpha[best_alpha], penalty='l2', loss='log', random_state=42)\n",
        "predict_and_plot_confusion_matrix(X_train_essay_bow, Y_train,X_cv_essay_bow, Y_cv, clf)"
      ],
      "execution_count": null,
      "outputs": [
        {
          "output_type": "stream",
          "text": [
            "Log loss : 0.041772227739337704\n",
            "Number of mis-classified points : 0.007958094086833888\n",
            "-------------------- Confusion matrix --------------------\n"
          ],
          "name": "stdout"
        },
        {
          "output_type": "display_data",
          "data": {
            "image/png": "[encoded data removed]",
            "text/plain": [
              "<Figure size 432x288 with 2 Axes>"
            ]
          },
          "metadata": {
            "tags": [],
            "needs_background": "light"
          }
        },
        {
          "output_type": "stream",
          "text": [
            "-------------------- Precision matrix (Columm Sum=1) --------------------\n"
          ],
          "name": "stdout"
        },
        {
          "output_type": "display_data",
          "data": {
            "image/png": "[encoded data removed]",
            "text/plain": [
              "<Figure size 432x288 with 2 Axes>"
            ]
          },
          "metadata": {
            "tags": [],
            "needs_background": "light"
          }
        },
        {
          "output_type": "stream",
          "text": [
            "-------------------- Recall matrix (Row sum=1) --------------------\n"
          ],
          "name": "stdout"
        },
        {
          "output_type": "display_data",
          "data": {
            "image/png": "[encoded data removed]",
            "text/plain": [
              "<Figure size 432x288 with 2 Axes>"
            ]
          },
          "metadata": {
            "tags": [],
            "needs_background": "light"
          }
        }
      ]
    },
    {
      "cell_type": "markdown",
      "metadata": {
        "id": "JbqwRPeJrf8_"
      },
      "source": [
        "#### Query point1"
      ]
    },
    {
      "cell_type": "code",
      "metadata": {
        "id": "YuVOBWo2rf8_",
        "outputId": "8861e5e2-da79-44f8-f37a-a425453bcf55"
      },
      "source": [
        "clf = SGDClassifier(alpha=alpha[best_alpha], penalty='l2', loss='log', random_state=42)\n",
        "clf.fit(X_train_essay_bow,Y_train)\n",
        "sig_clf = CalibratedClassifierCV(clf, method=\"sigmoid\")\n",
        "sig_clf.fit(X_train_essay_bow,Y_train)\n",
        "\n",
        "test_point_index = 100\n",
        "\n",
        "predicted_cls = sig_clf.predict(X_test_essay_bow[test_point_index].reshape(1,-1))\n",
        "print(\"Predicted Class :\", predicted_cls[0])\n",
        "print(\"Actual Class :\", Y_test[test_point_index])"
      ],
      "execution_count": null,
      "outputs": [
        {
          "output_type": "stream",
          "text": [
            "Predicted Class : 1\n",
            "Actual Class : 1\n"
          ],
          "name": "stdout"
        }
      ]
    },
    {
      "cell_type": "markdown",
      "metadata": {
        "id": "3hbB8T_Vrf8_"
      },
      "source": [
        "#### Querypoint2"
      ]
    },
    {
      "cell_type": "code",
      "metadata": {
        "id": "C3nZ3qJarf8_",
        "outputId": "3168e642-d1be-41b4-a84c-6d3802db0551"
      },
      "source": [
        "clf = SGDClassifier(alpha=alpha[best_alpha], penalty='l2', loss='log', random_state=42)\n",
        "clf.fit(X_train_essay_bow,Y_train)\n",
        "sig_clf = CalibratedClassifierCV(clf, method=\"sigmoid\")\n",
        "sig_clf.fit(X_train_essay_bow,Y_train)\n",
        "\n",
        "test_point_index = 20\n",
        "\n",
        "predicted_cls = sig_clf.predict(X_test_essay_bow[test_point_index].reshape(1,-1))\n",
        "print(\"Predicted Class :\", predicted_cls[0])\n",
        "print(\"Actual Class :\", Y_test[test_point_index])"
      ],
      "execution_count": null,
      "outputs": [
        {
          "output_type": "stream",
          "text": [
            "Predicted Class : 0\n",
            "Actual Class : 1\n"
          ],
          "name": "stdout"
        }
      ]
    },
    {
      "cell_type": "markdown",
      "metadata": {
        "id": "mIjIjyn3rf9A"
      },
      "source": [
        "#### d.SVC"
      ]
    },
    {
      "cell_type": "code",
      "metadata": {
        "id": "0ALS7Ro-rf9A",
        "outputId": "b71780cf-4a75-430c-c587-b431b89fc2eb"
      },
      "source": [
        "# read more about support vector machines with linear kernals here http://scikit-learn.org/stable/modules/generated/sklearn.svm.SVC.html\n",
        "\n",
        "# --------------------------------\n",
        "# default parameters \n",
        "# SVC(C=1.0, kernel=’rbf’, degree=3, gamma=’auto’, coef0=0.0, shrinking=True, probability=False, tol=0.001, \n",
        "# cache_size=200, class_weight=None, verbose=False, max_iter=-1, decision_function_shape=’ovr’, random_state=None)\n",
        "\n",
        "# Some of methods of SVM()\n",
        "# fit(X, y, [sample_weight])\tFit the SVM model according to the given training data.\n",
        "# predict(X)\tPerform classification on samples in X.\n",
        "# --------------------------------\n",
        "# video link: https://www.appliedaicourse.com/course/applied-ai-course-online/lessons/mathematical-derivation-copy-8/\n",
        "# --------------------------------\n",
        "\n",
        "\n",
        "\n",
        "# find more about CalibratedClassifierCV here at http://scikit-learn.org/stable/modules/generated/sklearn.calibration.CalibratedClassifierCV.html\n",
        "# ----------------------------\n",
        "# default paramters\n",
        "# sklearn.calibration.CalibratedClassifierCV(base_estimator=None, method=’sigmoid’, cv=3)\n",
        "#\n",
        "# some of the methods of CalibratedClassifierCV()\n",
        "# fit(X, y[, sample_weight])\tFit the calibrated model\n",
        "# get_params([deep])\tGet parameters for this estimator.\n",
        "# predict(X)\tPredict the target of new samples.\n",
        "# predict_proba(X)\tPosterior probabilities of classification\n",
        "#-------------------------------------\n",
        "# video link:\n",
        "#-------------------------------------\n",
        "\n",
        "alpha = [10 ** x for x in range(-5, 3)]\n",
        "cv_log_error_array = []\n",
        "for i in alpha:\n",
        "    print(\"for C =\", i)\n",
        "    clf = SGDClassifier(alpha=i, penalty='l2', loss='hinge', random_state=42)\n",
        "    clf.fit(X_train_essay_bow,Y_train)\n",
        "    sig_clf = CalibratedClassifierCV(clf, method=\"sigmoid\")\n",
        "    sig_clf.fit(X_train_essay_bow,Y_train)\n",
        "    sig_clf_probs = sig_clf.predict_proba(X_cv_essay_bow)\n",
        "    cv_log_error_array.append(log_loss(Y_cv, sig_clf_probs, labels=clf.classes_, eps=1e-15))\n",
        "    print(\"Log Loss :\",log_loss(Y_cv, sig_clf_probs)) \n",
        "\n",
        "fig, ax = plt.subplots()\n",
        "ax.plot(alpha, cv_log_error_array,c='g')\n",
        "for i, txt in enumerate(np.round(cv_log_error_array,3)):\n",
        "    ax.annotate((alpha[i],str(txt)), (alpha[i],cv_log_error_array[i]))\n",
        "plt.grid()\n",
        "plt.title(\"Cross Validation Error for each alpha\")\n",
        "plt.xlabel(\"Alpha i's\")\n",
        "plt.ylabel(\"Error measure\")\n",
        "plt.show()\n",
        "\n",
        "\n",
        "best_alpha = np.argmin(cv_log_error_array)\n",
        "clf = SGDClassifier(alpha=alpha[best_alpha], penalty='l2', loss='hinge', random_state=42)\n",
        "clf.fit(X_train_essay_bow,Y_train)\n",
        "sig_clf = CalibratedClassifierCV(clf, method=\"sigmoid\")\n",
        "sig_clf.fit(X_train_essay_bow,Y_train)\n",
        "\n",
        "predict_y = sig_clf.predict_proba(X_train_essay_bow)\n",
        "print('For values of best alpha = ', alpha[best_alpha], \"The train log loss is:\",log_loss(Y_train, predict_y, labels=clf.classes_, eps=1e-15))\n",
        "predict_y = sig_clf.predict_proba(X_cv_essay_bow)\n",
        "print('For values of best alpha = ', alpha[best_alpha], \"The cross validation log loss is:\",log_loss(Y_cv, predict_y, labels=clf.classes_, eps=1e-15))\n",
        "predict_y = sig_clf.predict_proba(X_test_essay_bow)\n",
        "print('For values of best alpha = ', alpha[best_alpha], \"The test log loss is:\",log_loss(Y_test, predict_y, labels=clf.classes_, eps=1e-15))"
      ],
      "execution_count": null,
      "outputs": [
        {
          "output_type": "stream",
          "text": [
            "for C = 1e-05\n",
            "Log Loss : 0.04511956611542015\n",
            "for C = 0.0001\n",
            "Log Loss : 0.04193907851800336\n",
            "for C = 0.001\n",
            "Log Loss : 0.038827228712513574\n",
            "for C = 0.01\n",
            "Log Loss : 0.03613485904404792\n",
            "for C = 0.1\n",
            "Log Loss : 0.04820240218214947\n",
            "for C = 1\n",
            "Log Loss : 0.10886909282116128\n",
            "for C = 10\n",
            "Log Loss : 0.1836032690314159\n",
            "for C = 100\n",
            "Log Loss : 0.4284113133672647\n"
          ],
          "name": "stdout"
        },
        {
          "output_type": "display_data",
          "data": {
            "image/png": "[encoded data removed]",
            "text/plain": [
              "<Figure size 432x288 with 1 Axes>"
            ]
          },
          "metadata": {
            "tags": [],
            "needs_background": "light"
          }
        },
        {
          "output_type": "stream",
          "text": [
            "For values of best alpha =  0.01 The train log loss is: 0.01593993827866597\n",
            "For values of best alpha =  0.01 The cross validation log loss is: 0.03613485904404792\n",
            "For values of best alpha =  0.01 The test log loss is: 0.03215042826877151\n"
          ],
          "name": "stdout"
        }
      ]
    },
    {
      "cell_type": "code",
      "metadata": {
        "id": "mUjR0x3xrf9A",
        "outputId": "f32c43e2-60be-4fea-d9cd-74103ca5bed8"
      },
      "source": [
        "# read more about SGDClassifier() at http://scikit-learn.org/stable/modules/generated/sklearn.linear_model.SGDClassifier.html\n",
        "# ------------------------------\n",
        "# default parameters\n",
        "# SGDClassifier(loss=’hinge’, penalty=’l2’, alpha=0.0001, l1_ratio=0.15, fit_intercept=True, max_iter=None, tol=None, \n",
        "# shuffle=True, verbose=0, epsilon=0.1, n_jobs=1, random_state=None, learning_rate=’optimal’, eta0=0.0, power_t=0.5, \n",
        "# class_weight=None, warm_start=False, average=False, n_iter=None)\n",
        "\n",
        "# some of methods\n",
        "# fit(X, y[, coef_init, intercept_init, …])\tFit linear model with Stochastic Gradient Descent.\n",
        "# predict(X)\tPredict class labels for samples in X.\n",
        "\n",
        "#-------------------------------\n",
        "# video link: \n",
        "#------------------------------\n",
        "\n",
        "clf = SGDClassifier(alpha=alpha[best_alpha], penalty='l2', loss='hinge', random_state=42,class_weight='balanced')\n",
        "predict_and_plot_confusion_matrix(X_train_essay_bow, Y_train,X_cv_essay_bow, Y_cv, clf)"
      ],
      "execution_count": null,
      "outputs": [
        {
          "output_type": "stream",
          "text": [
            "Log loss : 0.03659388522404664\n",
            "Number of mis-classified points : 0.0075551526140828044\n",
            "-------------------- Confusion matrix --------------------\n"
          ],
          "name": "stdout"
        },
        {
          "output_type": "display_data",
          "data": {
            "image/png": "[encoded data removed]",
            "text/plain": [
              "<Figure size 432x288 with 2 Axes>"
            ]
          },
          "metadata": {
            "tags": [],
            "needs_background": "light"
          }
        },
        {
          "output_type": "stream",
          "text": [
            "-------------------- Precision matrix (Columm Sum=1) --------------------\n"
          ],
          "name": "stdout"
        },
        {
          "output_type": "display_data",
          "data": {
            "image/png": "[encoded data removed]",
            "text/plain": [
              "<Figure size 432x288 with 2 Axes>"
            ]
          },
          "metadata": {
            "tags": [],
            "needs_background": "light"
          }
        },
        {
          "output_type": "stream",
          "text": [
            "-------------------- Recall matrix (Row sum=1) --------------------\n"
          ],
          "name": "stdout"
        },
        {
          "output_type": "display_data",
          "data": {
            "image/png": "[encoded data removed]",
            "text/plain": [
              "<Figure size 432x288 with 2 Axes>"
            ]
          },
          "metadata": {
            "tags": [],
            "needs_background": "light"
          }
        }
      ]
    },
    {
      "cell_type": "markdown",
      "metadata": {
        "id": "TH4pRIAjrf9B"
      },
      "source": [
        "#### Query point1"
      ]
    },
    {
      "cell_type": "code",
      "metadata": {
        "id": "Li45QYlYrf9B",
        "outputId": "3b9d1d16-e6f5-4568-b077-fb83d7dd6301"
      },
      "source": [
        "clf = SGDClassifier(alpha=alpha[best_alpha], penalty='l2', loss='hinge', random_state=42)\n",
        "clf.fit(X_train_essay_bow,Y_train)\n",
        "sig_clf = CalibratedClassifierCV(clf, method=\"sigmoid\")\n",
        "sig_clf.fit(X_train_essay_bow,Y_train)\n",
        "\n",
        "test_point_index = 500\n",
        "\n",
        "predicted_cls = sig_clf.predict(X_test_essay_bow[test_point_index].reshape(1,-1))\n",
        "print(\"Predicted Class :\", predicted_cls[0])\n",
        "print(\"Actual Class :\", Y_test[test_point_index])"
      ],
      "execution_count": null,
      "outputs": [
        {
          "output_type": "stream",
          "text": [
            "Predicted Class : 1\n",
            "Actual Class : 1\n"
          ],
          "name": "stdout"
        }
      ]
    },
    {
      "cell_type": "markdown",
      "metadata": {
        "id": "BmkukzJ0rf9B"
      },
      "source": [
        "#### query point2"
      ]
    },
    {
      "cell_type": "code",
      "metadata": {
        "id": "XxRnb4FMrf9B",
        "outputId": "82c4fbf8-8d55-47de-c766-105ca11eea43"
      },
      "source": [
        "clf = SGDClassifier(alpha=alpha[best_alpha], penalty='l2', loss='hinge', random_state=42)\n",
        "clf.fit(X_train_essay_bow,Y_train)\n",
        "sig_clf = CalibratedClassifierCV(clf, method=\"sigmoid\")\n",
        "sig_clf.fit(X_train_essay_bow,Y_train)\n",
        "\n",
        "test_point_index = 456\n",
        "\n",
        "predicted_cls = sig_clf.predict(X_test_essay_bow[test_point_index].reshape(1,-1))\n",
        "print(\"Predicted Class :\", predicted_cls[0])\n",
        "print(\"Actual Class :\", Y_test[test_point_index])"
      ],
      "execution_count": null,
      "outputs": [
        {
          "output_type": "stream",
          "text": [
            "Predicted Class : 1\n",
            "Actual Class : 1\n"
          ],
          "name": "stdout"
        }
      ]
    },
    {
      "cell_type": "markdown",
      "metadata": {
        "id": "m2ejF_-orf9C"
      },
      "source": [
        "##### e. Random Forest Classifier"
      ]
    },
    {
      "cell_type": "code",
      "metadata": {
        "id": "_XFuAnt-rf9C",
        "outputId": "e95b2529-6462-48d6-dc38-1ce2331de00d"
      },
      "source": [
        "# --------------------------------\n",
        "# default parameters \n",
        "# sklearn.ensemble.RandomForestClassifier(n_estimators=10, criterion=’gini’, max_depth=None, min_samples_split=2, \n",
        "# min_samples_leaf=1, min_weight_fraction_leaf=0.0, max_features=’auto’, max_leaf_nodes=None, min_impurity_decrease=0.0, \n",
        "# min_impurity_split=None, bootstrap=True, oob_score=False, n_jobs=1, random_state=None, verbose=0, warm_start=False, \n",
        "# class_weight=None)\n",
        "\n",
        "# Some of methods of RandomForestClassifier()\n",
        "# fit(X, y, [sample_weight])\tFit the SVM model according to the given training data.\n",
        "# predict(X)\tPerform classification on samples in X.\n",
        "# predict_proba (X)\tPerform classification on samples in X.\n",
        "\n",
        "# some of attributes of  RandomForestClassifier()\n",
        "# feature_importances_ : array of shape = [n_features]\n",
        "# The feature importances (the higher, the more important the feature).\n",
        "\n",
        "# --------------------------------\n",
        "# video link: https://www.appliedaicourse.com/course/applied-ai-course-online/lessons/random-forest-and-their-construction-2/\n",
        "# --------------------------------\n",
        "\n",
        "\n",
        "# find more about CalibratedClassifierCV here at http://scikit-learn.org/stable/modules/generated/sklearn.calibration.CalibratedClassifierCV.html\n",
        "# ----------------------------\n",
        "# default paramters\n",
        "# sklearn.calibration.CalibratedClassifierCV(base_estimator=None, method=’sigmoid’, cv=3)\n",
        "#\n",
        "# some of the methods of CalibratedClassifierCV()\n",
        "# fit(X, y[, sample_weight])\tFit the calibrated model\n",
        "# get_params([deep])\tGet parameters for this estimator.\n",
        "# predict(X)\tPredict the target of new samples.\n",
        "# predict_proba(X)\tPosterior probabilities of classification\n",
        "#-------------------------------------\n",
        "# video link:\n",
        "#-------------------------------------\n",
        "\n",
        "alpha = [100,200,500,1000,2000]\n",
        "max_depth = [5, 10]\n",
        "cv_log_error_array = []\n",
        "for i in alpha:\n",
        "    for j in max_depth:\n",
        "        print(\"for n_estimators =\", i,\"and max depth = \", j)\n",
        "        clf = RandomForestClassifier(n_estimators=i, criterion='gini', max_depth=j, random_state=42, n_jobs=-1)\n",
        "        clf.fit(X_train_essay_bow,Y_train)\n",
        "        sig_clf = CalibratedClassifierCV(clf, method=\"sigmoid\")\n",
        "        sig_clf.fit(X_train_essay_bow,Y_train)\n",
        "        sig_clf_probs = sig_clf.predict_proba(X_cv_essay_bow)\n",
        "        cv_log_error_array.append(log_loss(Y_cv, sig_clf_probs, labels=clf.classes_, eps=1e-15))\n",
        "        print(\"Log Loss :\",log_loss(Y_cv, sig_clf_probs)) \n",
        "\n",
        "fig, ax = plt.subplots()\n",
        "features = np.dot(np.array(alpha)[:,None],np.array(max_depth)[None]).ravel()\n",
        "ax.plot(features, cv_log_error_array,c='g')\n",
        "for i, txt in enumerate(np.round(cv_log_error_array,3)):\n",
        "    ax.annotate((alpha[int(i/2)],max_depth[int(i%2)],str(txt)), (features[i],cv_log_error_array[i]))\n",
        "plt.grid()\n",
        "plt.title(\"Cross Validation Error for each alpha\")\n",
        "plt.xlabel(\"Alpha i's\")\n",
        "plt.ylabel(\"Error measure\")\n",
        "plt.show()\n",
        "\n",
        "best_alpha = np.argmin(cv_log_error_array)\n",
        "clf = RandomForestClassifier(n_estimators=alpha[int(best_alpha/2)], criterion='gini', max_depth=max_depth[int(best_alpha%2)], random_state=42, n_jobs=-1)\n",
        "clf.fit(X_train_essay_bow,Y_train)\n",
        "sig_clf = CalibratedClassifierCV(clf, method=\"sigmoid\")\n",
        "sig_clf.fit(X_train_essay_bow,Y_train)\n",
        "\n",
        "predict_y = sig_clf.predict_proba(X_train_essay_bow)\n",
        "print('For values of best estimator = ', alpha[int(best_alpha/2)], \"The train log loss is:\",log_loss(Y_train, predict_y, labels=clf.classes_, eps=1e-15))\n",
        "predict_y = sig_clf.predict_proba(X_cv_essay_bow)\n",
        "print('For values of best estimator = ', alpha[int(best_alpha/2)], \"The cross validation log loss is:\",log_loss(Y_cv, predict_y, labels=clf.classes_, eps=1e-15))\n",
        "predict_y = sig_clf.predict_proba(X_test_essay_bow)\n",
        "print('For values of best estimator = ', alpha[int(best_alpha/2)], \"The test log loss is:\",log_loss(Y_test, predict_y, labels=clf.classes_, eps=1e-15))"
      ],
      "execution_count": null,
      "outputs": [
        {
          "output_type": "stream",
          "text": [
            "for n_estimators = 100 and max depth =  5\n",
            "Log Loss : 0.10915880195329149\n",
            "for n_estimators = 100 and max depth =  10\n",
            "Log Loss : 0.0783961905827449\n",
            "for n_estimators = 200 and max depth =  5\n",
            "Log Loss : 0.10710470771533737\n",
            "for n_estimators = 200 and max depth =  10\n",
            "Log Loss : 0.07781204156821532\n",
            "for n_estimators = 500 and max depth =  5\n",
            "Log Loss : 0.11090642692571988\n",
            "for n_estimators = 500 and max depth =  10\n",
            "Log Loss : 0.07701237842531107\n",
            "for n_estimators = 1000 and max depth =  5\n",
            "Log Loss : 0.1061369041307744\n",
            "for n_estimators = 1000 and max depth =  10\n",
            "Log Loss : 0.07714705106449807\n",
            "for n_estimators = 2000 and max depth =  5\n",
            "Log Loss : 0.10748891842500884\n",
            "for n_estimators = 2000 and max depth =  10\n",
            "Log Loss : 0.0773971686392047\n"
          ],
          "name": "stdout"
        },
        {
          "output_type": "display_data",
          "data": {
            "image/png": "[encoded data removed]",
            "text/plain": [
              "<Figure size 432x288 with 1 Axes>"
            ]
          },
          "metadata": {
            "tags": [],
            "needs_background": "light"
          }
        },
        {
          "output_type": "stream",
          "text": [
            "For values of best estimator =  500 The train log loss is: 0.04797716222193651\n",
            "For values of best estimator =  500 The cross validation log loss is: 0.07701237842531106\n",
            "For values of best estimator =  500 The test log loss is: 0.07512625845605897\n"
          ],
          "name": "stdout"
        }
      ]
    },
    {
      "cell_type": "code",
      "metadata": {
        "id": "9wCj4hY2rf9C",
        "outputId": "a6e3262d-15dd-4abc-cb75-4ad25bb14aa7"
      },
      "source": [
        "# read more about SGDClassifier() at http://scikit-learn.org/stable/modules/generated/sklearn.linear_model.SGDClassifier.html\n",
        "# ------------------------------\n",
        "# default parameters\n",
        "# SGDClassifier(loss=’hinge’, penalty=’l2’, alpha=0.0001, l1_ratio=0.15, fit_intercept=True, max_iter=None, tol=None, \n",
        "# shuffle=True, verbose=0, epsilon=0.1, n_jobs=1, random_state=None, learning_rate=’optimal’, eta0=0.0, power_t=0.5, \n",
        "# class_weight=None, warm_start=False, average=False, n_iter=None)\n",
        "\n",
        "# some of methods\n",
        "# fit(X, y[, coef_init, intercept_init, …])\tFit linear model with Stochastic Gradient Descent.\n",
        "# predict(X)\tPredict class labels for samples in X.\n",
        "\n",
        "#-------------------------------\n",
        "# video link: \n",
        "#------------------------------\n",
        "\n",
        "clf = RandomForestClassifier(n_estimators=alpha[int(best_alpha/2)], criterion='gini', max_depth=max_depth[int(best_alpha%2)], \n",
        "                             random_state=42, n_jobs=-1)\n",
        "predict_and_plot_confusion_matrix(X_train_essay_bow, Y_train,X_cv_essay_bow, Y_cv, clf)"
      ],
      "execution_count": null,
      "outputs": [
        {
          "output_type": "stream",
          "text": [
            "Log loss : 0.07701237842531107\n",
            "Number of mis-classified points : 0.026896343306134784\n",
            "-------------------- Confusion matrix --------------------\n"
          ],
          "name": "stdout"
        },
        {
          "output_type": "display_data",
          "data": {
            "image/png": "[encoded data removed]",
            "text/plain": [
              "<Figure size 432x288 with 2 Axes>"
            ]
          },
          "metadata": {
            "tags": [],
            "needs_background": "light"
          }
        },
        {
          "output_type": "stream",
          "text": [
            "-------------------- Precision matrix (Columm Sum=1) --------------------\n"
          ],
          "name": "stdout"
        },
        {
          "output_type": "display_data",
          "data": {
            "image/png": "[encoded data removed]",
            "text/plain": [
              "<Figure size 432x288 with 2 Axes>"
            ]
          },
          "metadata": {
            "tags": [],
            "needs_background": "light"
          }
        },
        {
          "output_type": "stream",
          "text": [
            "-------------------- Recall matrix (Row sum=1) --------------------\n"
          ],
          "name": "stdout"
        },
        {
          "output_type": "display_data",
          "data": {
            "image/png": "[encoded data removed]",
            "text/plain": [
              "<Figure size 432x288 with 2 Axes>"
            ]
          },
          "metadata": {
            "tags": [],
            "needs_background": "light"
          }
        }
      ]
    },
    {
      "cell_type": "markdown",
      "metadata": {
        "id": "OZIzHmYvrf9C"
      },
      "source": [
        "#### Query point1"
      ]
    },
    {
      "cell_type": "code",
      "metadata": {
        "id": "yOOLMwBxrf9D",
        "outputId": "cd279835-9eab-4c38-bbcd-c847ce96c593"
      },
      "source": [
        "clf = RandomForestClassifier(n_estimators=alpha[int(best_alpha/2)], criterion='gini', max_depth=max_depth[int(best_alpha%2)], random_state=42, n_jobs=-1)\n",
        "clf.fit(X_train_essay_bow,Y_train)\n",
        "sig_clf = CalibratedClassifierCV(clf, method=\"sigmoid\")\n",
        "sig_clf.fit(X_train_essay_bow,Y_train)\n",
        "\n",
        "test_point_index = 100\n",
        "\n",
        "predicted_cls = sig_clf.predict(X_test_essay_bow[test_point_index].reshape(1,-1))\n",
        "print(\"Predicted Class :\", predicted_cls[0])\n",
        "print(\"Actual Class :\", Y_test[test_point_index])"
      ],
      "execution_count": null,
      "outputs": [
        {
          "output_type": "stream",
          "text": [
            "Predicted Class : 1\n",
            "Actual Class : 1\n"
          ],
          "name": "stdout"
        }
      ]
    },
    {
      "cell_type": "markdown",
      "metadata": {
        "id": "z_gwJQDzrf9D"
      },
      "source": [
        "#### Querypoint2"
      ]
    },
    {
      "cell_type": "code",
      "metadata": {
        "id": "2ohz1nY2rf9D",
        "outputId": "c1b43795-a560-4ee2-e591-1d4c4e278c7a"
      },
      "source": [
        "clf = RandomForestClassifier(n_estimators=alpha[int(best_alpha/2)], criterion='gini', max_depth=max_depth[int(best_alpha%2)], random_state=42, n_jobs=-1)\n",
        "clf.fit(X_train_essay_bow,Y_train)\n",
        "sig_clf = CalibratedClassifierCV(clf, method=\"sigmoid\")\n",
        "sig_clf.fit(X_train_essay_bow,Y_train)\n",
        "\n",
        "test_point_index = 20\n",
        "\n",
        "predicted_cls = sig_clf.predict(X_test_essay_bow[test_point_index].reshape(1,-1))\n",
        "print(\"Predicted Class :\", predicted_cls[0])\n",
        "print(\"Actual Class :\", Y_test[test_point_index])"
      ],
      "execution_count": null,
      "outputs": [
        {
          "output_type": "stream",
          "text": [
            "Predicted Class : 0\n",
            "Actual Class : 1\n"
          ],
          "name": "stdout"
        }
      ]
    },
    {
      "cell_type": "markdown",
      "metadata": {
        "id": "OAgaFJjRrf9D"
      },
      "source": [
        "#### f.XGBoost classifier"
      ]
    },
    {
      "cell_type": "code",
      "metadata": {
        "id": "IIXhqR93rf9D",
        "outputId": "cdc7292b-9396-41db-b695-1dd88f928b20"
      },
      "source": [
        "# Training a hyper-parameter tuned Xg-Boost regressor on our train data\n",
        "\n",
        "# find more about XGBClassifier function here http://xgboost.readthedocs.io/en/latest/python/python_api.html?#xgboost.XGBClassifier\n",
        "# -------------------------\n",
        "# default paramters\n",
        "# class xgboost.XGBClassifier(max_depth=3, learning_rate=0.1, n_estimators=100, silent=True, \n",
        "# objective='binary:logistic', booster='gbtree', n_jobs=1, nthread=None, gamma=0, min_child_weight=1, \n",
        "# max_delta_step=0, subsample=1, colsample_bytree=1, colsample_bylevel=1, reg_alpha=0, reg_lambda=1, \n",
        "# scale_pos_weight=1, base_score=0.5, random_state=0, seed=None, missing=None, **kwargs)\n",
        "\n",
        "# some of methods of RandomForestRegressor()\n",
        "# fit(X, y, sample_weight=None, eval_set=None, eval_metric=None, early_stopping_rounds=None, verbose=True, xgb_model=None)\n",
        "# get_params([deep])\tGet parameters for this estimator.\n",
        "# predict(data, output_margin=False, ntree_limit=0) : Predict with data. NOTE: This function is not thread safe.\n",
        "# get_score(importance_type='weight') -> get the feature importance\n",
        "# -----------------------\n",
        "# video link1: https://www.appliedaicourse.com/course/applied-ai-course-online/lessons/regression-using-decision-trees-2/\n",
        "# video link2: https://www.appliedaicourse.com/course/applied-ai-course-online/lessons/what-are-ensembles/\n",
        "# -----------------------\n",
        "\n",
        "alpha=[10,50,100,500,1000,2000]\n",
        "cv_log_error_array=[]\n",
        "for i in alpha:\n",
        "    x_cfl=XGBClassifier(n_estimators=i,nthread=-1)\n",
        "    x_cfl.fit(X_train_essay_bow,Y_train)\n",
        "    sig_clf = CalibratedClassifierCV(x_cfl, method=\"sigmoid\")\n",
        "    sig_clf.fit(X_train_essay_bow,Y_train)\n",
        "    predict_y = sig_clf.predict_proba(X_cv_essay_bow)\n",
        "    cv_log_error_array.append(log_loss(Y_cv, predict_y, labels=x_cfl.classes_, eps=1e-15))\n",
        "\n",
        "for i in range(len(cv_log_error_array)):\n",
        "    print ('log_loss for c = ',alpha[i],'is',cv_log_error_array[i])\n",
        "\n",
        "\n",
        "best_alpha = np.argmin(cv_log_error_array)\n",
        "\n",
        "fig, ax = plt.subplots()\n",
        "ax.plot(alpha, cv_log_error_array,c='g')\n",
        "for i, txt in enumerate(np.round(cv_log_error_array,3)):\n",
        "    ax.annotate((alpha[i],np.round(txt,3)), (alpha[i],cv_log_error_array[i]))\n",
        "plt.grid()\n",
        "plt.title(\"Cross Validation Error for each alpha\")\n",
        "plt.xlabel(\"Alpha i's\")\n",
        "plt.ylabel(\"Error measure\")\n",
        "plt.show()\n",
        "\n",
        "x_cfl=XGBClassifier(n_estimators=alpha[best_alpha],nthread=-1)\n",
        "x_cfl.fit(X_train_essay_bow,Y_train)\n",
        "sig_clf = CalibratedClassifierCV(x_cfl, method=\"sigmoid\")\n",
        "sig_clf.fit(X_train_essay_bow,Y_train)\n",
        "    \n",
        "predict_y = sig_clf.predict_proba(X_train_essay_bow)\n",
        "print ('For values of best alpha = ', alpha[best_alpha], \"The train log loss is:\",log_loss(Y_train, predict_y))\n",
        "predict_y = sig_clf.predict_proba(X_cv_essay_bow)\n",
        "print('For values of best alpha = ', alpha[best_alpha], \"The cross validation log loss is:\",log_loss(Y_cv, predict_y))\n",
        "predict_y = sig_clf.predict_proba(X_test_essay_bow)\n",
        "print('For values of best alpha = ', alpha[best_alpha], \"The test log loss is:\",log_loss(Y_test, predict_y))"
      ],
      "execution_count": null,
      "outputs": [
        {
          "output_type": "stream",
          "text": [
            "log_loss for c =  10 is 0.017878413396743002\n",
            "log_loss for c =  50 is 0.01547255847233533\n",
            "log_loss for c =  100 is 0.015360985849293634\n",
            "log_loss for c =  500 is 0.015246240588438834\n",
            "log_loss for c =  1000 is 0.0152500292695341\n",
            "log_loss for c =  2000 is 0.015454988220489243\n"
          ],
          "name": "stdout"
        },
        {
          "output_type": "display_data",
          "data": {
            "image/png": "[encoded data removed]",
            "text/plain": [
              "<Figure size 432x288 with 1 Axes>"
            ]
          },
          "metadata": {
            "tags": [],
            "needs_background": "light"
          }
        },
        {
          "output_type": "stream",
          "text": [
            "For values of best alpha =  500 The train log loss is: 0.004687667636690827\n",
            "For values of best alpha =  500 The cross validation log loss is: 0.015246240588438834\n",
            "For values of best alpha =  500 The test log loss is: 0.013005839333623662\n"
          ],
          "name": "stdout"
        }
      ]
    },
    {
      "cell_type": "code",
      "metadata": {
        "id": "gqrSHYF2rf9E",
        "outputId": "8fccb091-afe1-4665-d144-1d996436fc3b"
      },
      "source": [
        "# read more about SGDClassifier() at http://scikit-learn.org/stable/modules/generated/sklearn.linear_model.SGDClassifier.html\n",
        "# ------------------------------\n",
        "# default parameters\n",
        "# SGDClassifier(loss=’hinge’, penalty=’l2’, alpha=0.0001, l1_ratio=0.15, fit_intercept=True, max_iter=None, tol=None, \n",
        "# shuffle=True, verbose=0, epsilon=0.1, n_jobs=1, random_state=None, learning_rate=’optimal’, eta0=0.0, power_t=0.5, \n",
        "# class_weight=None, warm_start=False, average=False, n_iter=None)\n",
        "\n",
        "# some of methods\n",
        "# fit(X, y[, coef_init, intercept_init, …])\tFit linear model with Stochastic Gradient Descent.\n",
        "# predict(X)\tPredict class labels for samples in X.\n",
        "\n",
        "#-------------------------------\n",
        "# video link: \n",
        "#------------------------------\n",
        "\n",
        "clf = XGBClassifier(n_estimators=alpha[best_alpha],random_state=42, n_jobs=-1)\n",
        "predict_and_plot_confusion_matrix(X_train_essay_bow, Y_train,X_cv_essay_bow, Y_cv, clf)"
      ],
      "execution_count": null,
      "outputs": [
        {
          "output_type": "stream",
          "text": [
            "Log loss : 0.015246240588438834\n",
            "Number of mis-classified points : 0.0027198549410698096\n",
            "-------------------- Confusion matrix --------------------\n"
          ],
          "name": "stdout"
        },
        {
          "output_type": "display_data",
          "data": {
            "image/png": "[encoded data removed]",
            "text/plain": [
              "<Figure size 432x288 with 2 Axes>"
            ]
          },
          "metadata": {
            "tags": [],
            "needs_background": "light"
          }
        },
        {
          "output_type": "stream",
          "text": [
            "-------------------- Precision matrix (Columm Sum=1) --------------------\n"
          ],
          "name": "stdout"
        },
        {
          "output_type": "display_data",
          "data": {
            "image/png": "[encoded data removed]",
            "text/plain": [
              "<Figure size 432x288 with 2 Axes>"
            ]
          },
          "metadata": {
            "tags": [],
            "needs_background": "light"
          }
        },
        {
          "output_type": "stream",
          "text": [
            "-------------------- Recall matrix (Row sum=1) --------------------\n"
          ],
          "name": "stdout"
        },
        {
          "output_type": "display_data",
          "data": {
            "image/png": "[encoded data removed]",
            "text/plain": [
              "<Figure size 432x288 with 2 Axes>"
            ]
          },
          "metadata": {
            "tags": [],
            "needs_background": "light"
          }
        }
      ]
    },
    {
      "cell_type": "markdown",
      "metadata": {
        "id": "9c_x0Jctrf9E"
      },
      "source": [
        "#### XgBoost Classification with best hyper parameters using RandomSearch"
      ]
    },
    {
      "cell_type": "code",
      "metadata": {
        "id": "vcbcYYXArf9E",
        "outputId": "161fe141-8a49-40e1-ea55-e4124ceb05e8"
      },
      "source": [
        "# https://www.analyticsvidhya.com/blog/2016/03/complete-guide-parameter-tuning-xgboost-with-codes-python/\n",
        "x_cfl=XGBClassifier()\n",
        "prams={'learning_rate':[0.01,0.03,0.05,0.1,0.15,0.2]}\n",
        "random_cfl1=RandomizedSearchCV(x_cfl,param_distributions=prams,verbose=10,n_jobs=-1,)\n",
        "random_cfl1.fit(X_train_essay_bow,Y_train)"
      ],
      "execution_count": null,
      "outputs": [
        {
          "output_type": "stream",
          "text": [
            "Fitting 5 folds for each of 6 candidates, totalling 30 fits\n"
          ],
          "name": "stdout"
        },
        {
          "output_type": "stream",
          "text": [
            "[Parallel(n_jobs=-1)]: Using backend LokyBackend with 8 concurrent workers.\n",
            "[Parallel(n_jobs=-1)]: Done   2 tasks      | elapsed:  1.5min\n",
            "[Parallel(n_jobs=-1)]: Done   9 tasks      | elapsed:  3.0min\n",
            "[Parallel(n_jobs=-1)]: Done  19 out of  30 | elapsed:  4.6min remaining:  2.7min\n",
            "[Parallel(n_jobs=-1)]: Done  23 out of  30 | elapsed:  5.1min remaining:  1.5min\n",
            "[Parallel(n_jobs=-1)]: Done  27 out of  30 | elapsed:  5.9min remaining:   39.2s\n",
            "[Parallel(n_jobs=-1)]: Done  30 out of  30 | elapsed:  6.0min finished\n"
          ],
          "name": "stderr"
        },
        {
          "output_type": "execute_result",
          "data": {
            "text/plain": [
              "RandomizedSearchCV(estimator=XGBClassifier(base_score=None, booster=None,\n",
              "                                           colsample_bylevel=None,\n",
              "                                           colsample_bynode=None,\n",
              "                                           colsample_bytree=None, gamma=None,\n",
              "                                           gpu_id=None, importance_type='gain',\n",
              "                                           interaction_constraints=None,\n",
              "                                           learning_rate=None,\n",
              "                                           max_delta_step=None, max_depth=None,\n",
              "                                           min_child_weight=None, missing=nan,\n",
              "                                           monotone_constraints=None,\n",
              "                                           n_estimators=100, n_jobs=None,\n",
              "                                           num_parallel_tree=None,\n",
              "                                           random_state=None, reg_alpha=None,\n",
              "                                           reg_lambda=None,\n",
              "                                           scale_pos_weight=None,\n",
              "                                           subsample=None, tree_method=None,\n",
              "                                           validate_parameters=None,\n",
              "                                           verbosity=None),\n",
              "                   n_jobs=-1,\n",
              "                   param_distributions={'learning_rate': [0.01, 0.03, 0.05, 0.1,\n",
              "                                                          0.15, 0.2]},\n",
              "                   verbose=10)"
            ]
          },
          "metadata": {
            "tags": []
          },
          "execution_count": 14
        }
      ]
    },
    {
      "cell_type": "code",
      "metadata": {
        "id": "vMrbEEv5rf9F",
        "outputId": "a4fe77b7-ee99-478d-f76b-4e2512d3cd35"
      },
      "source": [
        "# https://www.analyticsvidhya.com/blog/2016/03/complete-guide-parameter-tuning-xgboost-with-codes-python/\n",
        "x_cfl=XGBClassifier()\n",
        "prams={'max_depth':[3,5,10]}\n",
        "random_cfl2=RandomizedSearchCV(x_cfl,param_distributions=prams,verbose=10,n_jobs=-1,)\n",
        "random_cfl2.fit(X_train_essay_bow,Y_train)"
      ],
      "execution_count": null,
      "outputs": [
        {
          "output_type": "stream",
          "text": [
            "Fitting 5 folds for each of 3 candidates, totalling 15 fits\n"
          ],
          "name": "stdout"
        },
        {
          "output_type": "stream",
          "text": [
            "[Parallel(n_jobs=-1)]: Using backend LokyBackend with 8 concurrent workers.\n",
            "[Parallel(n_jobs=-1)]: Done   2 out of  15 | elapsed:   49.8s remaining:  5.4min\n",
            "[Parallel(n_jobs=-1)]: Done   4 out of  15 | elapsed:   50.3s remaining:  2.3min\n",
            "[Parallel(n_jobs=-1)]: Done   6 out of  15 | elapsed:  1.2min remaining:  1.8min\n",
            "[Parallel(n_jobs=-1)]: Done   8 out of  15 | elapsed:  1.2min remaining:  1.1min\n",
            "[Parallel(n_jobs=-1)]: Done  10 out of  15 | elapsed:  2.0min remaining:  1.0min\n",
            "[Parallel(n_jobs=-1)]: Done  12 out of  15 | elapsed:  2.2min remaining:   33.2s\n",
            "[Parallel(n_jobs=-1)]: Done  15 out of  15 | elapsed:  2.4min finished\n"
          ],
          "name": "stderr"
        },
        {
          "output_type": "execute_result",
          "data": {
            "text/plain": [
              "RandomizedSearchCV(estimator=XGBClassifier(base_score=None, booster=None,\n",
              "                                           colsample_bylevel=None,\n",
              "                                           colsample_bynode=None,\n",
              "                                           colsample_bytree=None, gamma=None,\n",
              "                                           gpu_id=None, importance_type='gain',\n",
              "                                           interaction_constraints=None,\n",
              "                                           learning_rate=None,\n",
              "                                           max_delta_step=None, max_depth=None,\n",
              "                                           min_child_weight=None, missing=nan,\n",
              "                                           monotone_constraints=None,\n",
              "                                           n_estimators=100, n_jobs=None,\n",
              "                                           num_parallel_tree=None,\n",
              "                                           random_state=None, reg_alpha=None,\n",
              "                                           reg_lambda=None,\n",
              "                                           scale_pos_weight=None,\n",
              "                                           subsample=None, tree_method=None,\n",
              "                                           validate_parameters=None,\n",
              "                                           verbosity=None),\n",
              "                   n_jobs=-1, param_distributions={'max_depth': [3, 5, 10]},\n",
              "                   verbose=10)"
            ]
          },
          "metadata": {
            "tags": []
          },
          "execution_count": 15
        }
      ]
    },
    {
      "cell_type": "code",
      "metadata": {
        "id": "paKdsf1jrf9F",
        "outputId": "031d727f-0ddb-4535-9684-212f5be82198"
      },
      "source": [
        "# https://www.analyticsvidhya.com/blog/2016/03/complete-guide-parameter-tuning-xgboost-with-codes-python/\n",
        "x_cfl=XGBClassifier()\n",
        "prams={'n_estimators':[100,200,500,1000,2000]}\n",
        "random_cfl3=RandomizedSearchCV(x_cfl,param_distributions=prams,verbose=10,n_jobs=-1,)\n",
        "random_cfl3.fit(X_train_essay_bow,Y_train)"
      ],
      "execution_count": null,
      "outputs": [
        {
          "output_type": "stream",
          "text": [
            "Fitting 5 folds for each of 5 candidates, totalling 25 fits\n"
          ],
          "name": "stdout"
        },
        {
          "output_type": "stream",
          "text": [
            "[Parallel(n_jobs=-1)]: Using backend LokyBackend with 8 concurrent workers.\n",
            "[Parallel(n_jobs=-1)]: Done   2 tasks      | elapsed:  1.3min\n",
            "[Parallel(n_jobs=-1)]: Done   9 tasks      | elapsed:  3.2min\n",
            "[Parallel(n_jobs=-1)]: Done  13 out of  25 | elapsed:  5.1min remaining:  4.7min\n",
            "[Parallel(n_jobs=-1)]: Done  16 out of  25 | elapsed:  8.2min remaining:  4.6min\n",
            "[Parallel(n_jobs=-1)]: Done  19 out of  25 | elapsed: 11.1min remaining:  3.5min\n",
            "[Parallel(n_jobs=-1)]: Done  22 out of  25 | elapsed: 15.4min remaining:  2.1min\n",
            "[Parallel(n_jobs=-1)]: Done  25 out of  25 | elapsed: 16.8min remaining:    0.0s\n",
            "[Parallel(n_jobs=-1)]: Done  25 out of  25 | elapsed: 16.8min finished\n"
          ],
          "name": "stderr"
        },
        {
          "output_type": "execute_result",
          "data": {
            "text/plain": [
              "RandomizedSearchCV(estimator=XGBClassifier(base_score=None, booster=None,\n",
              "                                           colsample_bylevel=None,\n",
              "                                           colsample_bynode=None,\n",
              "                                           colsample_bytree=None, gamma=None,\n",
              "                                           gpu_id=None, importance_type='gain',\n",
              "                                           interaction_constraints=None,\n",
              "                                           learning_rate=None,\n",
              "                                           max_delta_step=None, max_depth=None,\n",
              "                                           min_child_weight=None, missing=nan,\n",
              "                                           monotone_constraints=None,\n",
              "                                           n_estimators=100, n_jobs=None,\n",
              "                                           num_parallel_tree=None,\n",
              "                                           random_state=None, reg_alpha=None,\n",
              "                                           reg_lambda=None,\n",
              "                                           scale_pos_weight=None,\n",
              "                                           subsample=None, tree_method=None,\n",
              "                                           validate_parameters=None,\n",
              "                                           verbosity=None),\n",
              "                   n_jobs=-1,\n",
              "                   param_distributions={'n_estimators': [100, 200, 500, 1000,\n",
              "                                                         2000]},\n",
              "                   verbose=10)"
            ]
          },
          "metadata": {
            "tags": []
          },
          "execution_count": 16
        }
      ]
    },
    {
      "cell_type": "code",
      "metadata": {
        "id": "m2T5Nbthrf9F",
        "outputId": "e4bbef61-a804-4cd0-d075-1aa8587939cd"
      },
      "source": [
        "# https://www.analyticsvidhya.com/blog/2016/03/complete-guide-parameter-tuning-xgboost-with-codes-python/\n",
        "x_cfl=XGBClassifier()\n",
        "prams={'colsample_bytree':[0.1,0.3,0.5,1]}\n",
        "random_cfl4=RandomizedSearchCV(x_cfl,param_distributions=prams,verbose=10,n_jobs=-1,)\n",
        "random_cfl4.fit(X_train_essay_bow,Y_train)"
      ],
      "execution_count": null,
      "outputs": [
        {
          "output_type": "stream",
          "text": [
            "Fitting 5 folds for each of 4 candidates, totalling 20 fits\n"
          ],
          "name": "stdout"
        },
        {
          "output_type": "stream",
          "text": [
            "[Parallel(n_jobs=-1)]: Using backend LokyBackend with 8 concurrent workers.\n",
            "[Parallel(n_jobs=-1)]: Done   2 tasks      | elapsed:   23.5s\n",
            "[Parallel(n_jobs=-1)]: Done   8 out of  20 | elapsed:   41.4s remaining:  1.0min\n",
            "[Parallel(n_jobs=-1)]: Done  11 out of  20 | elapsed:  1.2min remaining:   57.2s\n",
            "[Parallel(n_jobs=-1)]: Done  14 out of  20 | elapsed:  1.4min remaining:   36.7s\n",
            "[Parallel(n_jobs=-1)]: Done  17 out of  20 | elapsed:  1.9min remaining:   19.5s\n",
            "[Parallel(n_jobs=-1)]: Done  20 out of  20 | elapsed:  1.9min remaining:    0.0s\n",
            "[Parallel(n_jobs=-1)]: Done  20 out of  20 | elapsed:  1.9min finished\n"
          ],
          "name": "stderr"
        },
        {
          "output_type": "execute_result",
          "data": {
            "text/plain": [
              "RandomizedSearchCV(estimator=XGBClassifier(base_score=None, booster=None,\n",
              "                                           colsample_bylevel=None,\n",
              "                                           colsample_bynode=None,\n",
              "                                           colsample_bytree=None, gamma=None,\n",
              "                                           gpu_id=None, importance_type='gain',\n",
              "                                           interaction_constraints=None,\n",
              "                                           learning_rate=None,\n",
              "                                           max_delta_step=None, max_depth=None,\n",
              "                                           min_child_weight=None, missing=nan,\n",
              "                                           monotone_constraints=None,\n",
              "                                           n_estimators=100, n_jobs=None,\n",
              "                                           num_parallel_tree=None,\n",
              "                                           random_state=None, reg_alpha=None,\n",
              "                                           reg_lambda=None,\n",
              "                                           scale_pos_weight=None,\n",
              "                                           subsample=None, tree_method=None,\n",
              "                                           validate_parameters=None,\n",
              "                                           verbosity=None),\n",
              "                   n_jobs=-1,\n",
              "                   param_distributions={'colsample_bytree': [0.1, 0.3, 0.5, 1]},\n",
              "                   verbose=10)"
            ]
          },
          "metadata": {
            "tags": []
          },
          "execution_count": 17
        }
      ]
    },
    {
      "cell_type": "code",
      "metadata": {
        "id": "h8rgp1_Trf9F",
        "outputId": "fb81a7d7-c961-44ef-f83a-0b84e074760e"
      },
      "source": [
        "# https://www.analyticsvidhya.com/blog/2016/03/complete-guide-parameter-tuning-xgboost-with-codes-python/\n",
        "x_cfl=XGBClassifier()\n",
        "prams={'subsample':[0.1,0.3,0.5,1]}\n",
        "random_cfl5=RandomizedSearchCV(x_cfl,param_distributions=prams,verbose=10,n_jobs=-1,)\n",
        "random_cfl5.fit(X_train_essay_bow,Y_train)"
      ],
      "execution_count": null,
      "outputs": [
        {
          "output_type": "stream",
          "text": [
            "Fitting 5 folds for each of 4 candidates, totalling 20 fits\n"
          ],
          "name": "stdout"
        },
        {
          "output_type": "stream",
          "text": [
            "[Parallel(n_jobs=-1)]: Using backend LokyBackend with 8 concurrent workers.\n",
            "[Parallel(n_jobs=-1)]: Done   2 tasks      | elapsed:   41.6s\n",
            "[Parallel(n_jobs=-1)]: Done   8 out of  20 | elapsed:  1.1min remaining:  1.6min\n",
            "[Parallel(n_jobs=-1)]: Done  11 out of  20 | elapsed:  1.9min remaining:  1.6min\n",
            "[Parallel(n_jobs=-1)]: Done  14 out of  20 | elapsed:  2.2min remaining:   56.4s\n",
            "[Parallel(n_jobs=-1)]: Done  17 out of  20 | elapsed:  2.5min remaining:   26.8s\n",
            "[Parallel(n_jobs=-1)]: Done  20 out of  20 | elapsed:  2.6min remaining:    0.0s\n",
            "[Parallel(n_jobs=-1)]: Done  20 out of  20 | elapsed:  2.6min finished\n"
          ],
          "name": "stderr"
        },
        {
          "output_type": "execute_result",
          "data": {
            "text/plain": [
              "RandomizedSearchCV(estimator=XGBClassifier(base_score=None, booster=None,\n",
              "                                           colsample_bylevel=None,\n",
              "                                           colsample_bynode=None,\n",
              "                                           colsample_bytree=None, gamma=None,\n",
              "                                           gpu_id=None, importance_type='gain',\n",
              "                                           interaction_constraints=None,\n",
              "                                           learning_rate=None,\n",
              "                                           max_delta_step=None, max_depth=None,\n",
              "                                           min_child_weight=None, missing=nan,\n",
              "                                           monotone_constraints=None,\n",
              "                                           n_estimators=100, n_jobs=None,\n",
              "                                           num_parallel_tree=None,\n",
              "                                           random_state=None, reg_alpha=None,\n",
              "                                           reg_lambda=None,\n",
              "                                           scale_pos_weight=None,\n",
              "                                           subsample=None, tree_method=None,\n",
              "                                           validate_parameters=None,\n",
              "                                           verbosity=None),\n",
              "                   n_jobs=-1,\n",
              "                   param_distributions={'subsample': [0.1, 0.3, 0.5, 1]},\n",
              "                   verbose=10)"
            ]
          },
          "metadata": {
            "tags": []
          },
          "execution_count": 18
        }
      ]
    },
    {
      "cell_type": "code",
      "metadata": {
        "id": "qE7Pa4a0rf9G",
        "outputId": "c0c9a29c-5d13-44fd-8ad6-f6e70ab793b5"
      },
      "source": [
        "print(random_cfl1.best_params_)\n",
        "print(random_cfl2.best_params_)\n",
        "print(random_cfl3.best_params_)\n",
        "print(random_cfl4.best_params_)\n",
        "print(random_cfl5.best_params_)"
      ],
      "execution_count": null,
      "outputs": [
        {
          "output_type": "stream",
          "text": [
            "{'learning_rate': 0.1}\n",
            "{'max_depth': 3}\n",
            "{'n_estimators': 100}\n",
            "{'colsample_bytree': 0.1}\n",
            "{'subsample': 0.3}\n"
          ],
          "name": "stdout"
        }
      ]
    },
    {
      "cell_type": "code",
      "metadata": {
        "id": "jeIp53Hqrf9G",
        "outputId": "b550be21-7f27-4dcb-99a7-8425ee45b411"
      },
      "source": [
        "x_cfl=XGBClassifier(n_estimators=100, learning_rate=0.1, colsample_bytree=0.1, max_depth=3,subsample=0.3)\n",
        "x_cfl.fit(X_train_essay_bow,Y_train)\n",
        "c_cfl=CalibratedClassifierCV(x_cfl,method='sigmoid')\n",
        "c_cfl.fit(X_train_essay_bow,Y_train)\n",
        "\n",
        "predict_y = c_cfl.predict_proba(X_train_essay_bow)\n",
        "print ('train loss',log_loss(Y_train, predict_y))\n",
        "predict_y = c_cfl.predict_proba(X_cv_essay_bow)\n",
        "print ('cv loss',log_loss(Y_cv, predict_y))\n",
        "predict_y = c_cfl.predict_proba(X_test_essay_bow)\n",
        "print ('test loss',log_loss(Y_test, predict_y))\n",
        "predict_and_plot_confusion_matrix(X_train_essay_bow, Y_train,X_cv_essay_bow, Y_cv, x_cfl)"
      ],
      "execution_count": null,
      "outputs": [
        {
          "output_type": "stream",
          "text": [
            "train loss 0.012819142091524608\n",
            "cv loss 0.014819478359675044\n",
            "test loss 0.015231041185501294\n",
            "Log loss : 0.014819478359675044\n",
            "Number of mis-classified points : 0.004633826936637453\n",
            "-------------------- Confusion matrix --------------------\n"
          ],
          "name": "stdout"
        },
        {
          "output_type": "display_data",
          "data": {
            "image/png": "[encoded data removed]",
            "text/plain": [
              "<Figure size 432x288 with 2 Axes>"
            ]
          },
          "metadata": {
            "tags": [],
            "needs_background": "light"
          }
        },
        {
          "output_type": "stream",
          "text": [
            "-------------------- Precision matrix (Columm Sum=1) --------------------\n"
          ],
          "name": "stdout"
        },
        {
          "output_type": "display_data",
          "data": {
            "image/png": "[encoded data removed]",
            "text/plain": [
              "<Figure size 432x288 with 2 Axes>"
            ]
          },
          "metadata": {
            "tags": [],
            "needs_background": "light"
          }
        },
        {
          "output_type": "stream",
          "text": [
            "-------------------- Recall matrix (Row sum=1) --------------------\n"
          ],
          "name": "stdout"
        },
        {
          "output_type": "display_data",
          "data": {
            "image/png": "[encoded data removed]",
            "text/plain": [
              "<Figure size 432x288 with 2 Axes>"
            ]
          },
          "metadata": {
            "tags": [],
            "needs_background": "light"
          }
        }
      ]
    },
    {
      "cell_type": "markdown",
      "metadata": {
        "id": "KYLx5Tisrf9G"
      },
      "source": [
        "#### Query point1"
      ]
    },
    {
      "cell_type": "code",
      "metadata": {
        "id": "fe9iXlDVrf9G",
        "outputId": "06015170-46a0-4957-e5f3-883e216e3519"
      },
      "source": [
        "clf=XGBClassifier(n_estimators=100, learning_rate=0.1, colsample_bytree=0.1, max_depth=3,subsample=0.3)\n",
        "clf.fit(X_train_essay_bow,Y_train)\n",
        "sig_clf = CalibratedClassifierCV(clf, method=\"sigmoid\")\n",
        "sig_clf.fit(X_train_essay_bow,Y_train)\n",
        "\n",
        "test_point_index = 567\n",
        "\n",
        "predicted_cls = sig_clf.predict(X_test_essay_bow[test_point_index].reshape(1,-1))\n",
        "print(\"Predicted Class :\", predicted_cls[0])\n",
        "print(\"Actual Class :\", Y_test[test_point_index])"
      ],
      "execution_count": null,
      "outputs": [
        {
          "output_type": "stream",
          "text": [
            "Predicted Class : 0\n",
            "Actual Class : 0\n"
          ],
          "name": "stdout"
        }
      ]
    },
    {
      "cell_type": "markdown",
      "metadata": {
        "id": "dsVa7Tpcrf9H"
      },
      "source": [
        "#### Query point2"
      ]
    },
    {
      "cell_type": "code",
      "metadata": {
        "id": "u49xSyFnrf9H",
        "outputId": "ec2fcf98-a078-40ef-e4c3-ca1fa469e533"
      },
      "source": [
        "clf =XGBClassifier(n_estimators=100, learning_rate=0.1, colsample_bytree=0.1, max_depth=3,subsample=0.3)\n",
        "clf.fit(X_train_essay_bow,Y_train)\n",
        "sig_clf = CalibratedClassifierCV(clf, method=\"sigmoid\")\n",
        "sig_clf.fit(X_train_essay_bow,Y_train)\n",
        "\n",
        "test_point_index = 789\n",
        "\n",
        "predicted_cls = sig_clf.predict(X_test_essay_bow[test_point_index].reshape(1,-1))\n",
        "print(\"Predicted Class :\", predicted_cls[0])\n",
        "print(\"Actual Class :\", Y_test[test_point_index])"
      ],
      "execution_count": null,
      "outputs": [
        {
          "output_type": "stream",
          "text": [
            "Predicted Class : 0\n",
            "Actual Class : 0\n"
          ],
          "name": "stdout"
        }
      ]
    },
    {
      "cell_type": "markdown",
      "metadata": {
        "id": "3UAUZE0drf9H"
      },
      "source": [
        "### Applying Deep Learning Models"
      ]
    },
    {
      "cell_type": "markdown",
      "metadata": {
        "id": "Pz_LwkHTrf9H"
      },
      "source": [
        "#### a.ANN(Artificial Neural Network)"
      ]
    },
    {
      "cell_type": "code",
      "metadata": {
        "id": "6lCprubkrf9H"
      },
      "source": [
        "from sklearn.metrics import classification_report, confusion_matrix, plot_confusion_matrix\n",
        "from keras.preprocessing.text import Tokenizer\n",
        "from keras.preprocessing.sequence import pad_sequences\n",
        "from keras.models import Sequential\n",
        "from tensorflow.keras.losses import BinaryCrossentropy\n",
        "from keras import layers"
      ],
      "execution_count": 5,
      "outputs": []
    },
    {
      "cell_type": "code",
      "metadata": {
        "id": "hq61VASCrf9H"
      },
      "source": [
        "tokenizer = Tokenizer()\n",
        "tokenizer.fit_on_texts(df['original'])\n",
        "\n",
        "word_to_index = tokenizer.word_index\n",
        "\n",
        "x = tokenizer.texts_to_sequences(df['original'])\n",
        "\n",
        "vocab_size = len(word_to_index)+1\n",
        "vocab_size\n",
        "\n",
        "x = pad_sequences(x, padding='post')"
      ],
      "execution_count": 6,
      "outputs": []
    },
    {
      "cell_type": "code",
      "metadata": {
        "colab": {
          "base_uri": "https://localhost:8080/"
        },
        "id": "_bKjo88lrf9I",
        "outputId": "69fade8b-e428-4544-a004-31ce9e51d257"
      },
      "source": [
        "x.shape"
      ],
      "execution_count": 7,
      "outputs": [
        {
          "output_type": "execute_result",
          "data": {
            "text/plain": [
              "(44898, 8389)"
            ]
          },
          "metadata": {
            "tags": []
          },
          "execution_count": 7
        }
      ]
    },
    {
      "cell_type": "code",
      "metadata": {
        "colab": {
          "base_uri": "https://localhost:8080/"
        },
        "id": "4nEiwtZArf9I",
        "outputId": "cd118337-034e-4b6a-d379-80d8de215054"
      },
      "source": [
        "X_train,X_test,Y_train,Y_test=train_test_split(x,df['target'],test_size=0.33,stratify=df['target'])\n",
        "print(\"X_train shape:\",X_train.shape)\n",
        "print(\"X_test shape:\",X_test.shape)\n",
        "print(\"Y_train shape:\",Y_train.shape)\n",
        "print(\"Y_test shape:\",Y_test.shape)"
      ],
      "execution_count": 8,
      "outputs": [
        {
          "output_type": "stream",
          "text": [
            "X_train shape: (30081, 8389)\n",
            "X_test shape: (14817, 8389)\n",
            "Y_train shape: (30081,)\n",
            "Y_test shape: (14817,)\n"
          ],
          "name": "stdout"
        }
      ]
    },
    {
      "cell_type": "code",
      "metadata": {
        "id": "4oy4Nohurf9I"
      },
      "source": [
        "#output_dim=10=>to just increase the training time\n",
        "model1 = Sequential()\n",
        "model1.add(layers.Embedding(input_dim=vocab_size, output_dim=10,input_length=X_train.shape[1]))\n",
        "model1.add(layers.GlobalAveragePooling1D())\n",
        "model1.add(layers.Dense(1, activation='sigmoid'))"
      ],
      "execution_count": null,
      "outputs": []
    },
    {
      "cell_type": "code",
      "metadata": {
        "id": "4_2sQn_Brf9I",
        "outputId": "a0b20505-16cb-4e66-8dd2-0379c3ca38f0"
      },
      "source": [
        "model1.summary()"
      ],
      "execution_count": null,
      "outputs": [
        {
          "output_type": "stream",
          "text": [
            "Model: \"sequential_3\"\n",
            "_________________________________________________________________\n",
            "Layer (type)                 Output Shape              Param #   \n",
            "=================================================================\n",
            "embedding_1 (Embedding)      (None, 8389, 10)          1219770   \n",
            "_________________________________________________________________\n",
            "global_average_pooling1d_1 ( (None, 10)                0         \n",
            "_________________________________________________________________\n",
            "dense_2 (Dense)              (None, 1)                 11        \n",
            "=================================================================\n",
            "Total params: 1,219,781\n",
            "Trainable params: 1,219,781\n",
            "Non-trainable params: 0\n",
            "_________________________________________________________________\n"
          ],
          "name": "stdout"
        }
      ]
    },
    {
      "cell_type": "code",
      "metadata": {
        "id": "jxLvz5uGrf9J",
        "outputId": "c5abc945-54f3-4b36-8930-05d1ef1311b0"
      },
      "source": [
        "model1.compile(loss=BinaryCrossentropy(), optimizer='adam', metrics=['accuracy'])\n",
        "history = model1.fit(X_train, Y_train, epochs=10, validation_data=(X_test, Y_test))"
      ],
      "execution_count": null,
      "outputs": [
        {
          "output_type": "stream",
          "text": [
            "Epoch 1/10\n",
            "941/941 [==============================] - 40s 43ms/step - loss: 0.6837 - accuracy: 0.5551 - val_loss: 0.6657 - val_accuracy: 0.5378\n",
            "Epoch 2/10\n",
            "941/941 [==============================] - 43s 45ms/step - loss: 0.6274 - accuracy: 0.8074 - val_loss: 0.5806 - val_accuracy: 0.9205\n",
            "Epoch 3/10\n",
            "941/941 [==============================] - 40s 42ms/step - loss: 0.5306 - accuracy: 0.9076 - val_loss: 0.4825 - val_accuracy: 0.9324\n",
            "Epoch 4/10\n",
            "941/941 [==============================] - 44s 46ms/step - loss: 0.4380 - accuracy: 0.9277 - val_loss: 0.3985 - val_accuracy: 0.9461\n",
            "Epoch 5/10\n",
            "941/941 [==============================] - 47s 50ms/step - loss: 0.3649 - accuracy: 0.9418 - val_loss: 0.3357 - val_accuracy: 0.9516\n",
            "Epoch 6/10\n",
            "941/941 [==============================] - 44s 47ms/step - loss: 0.3097 - accuracy: 0.9490 - val_loss: 0.2867 - val_accuracy: 0.9515\n",
            "Epoch 7/10\n",
            "941/941 [==============================] - 42s 44ms/step - loss: 0.2674 - accuracy: 0.9566 - val_loss: 0.2499 - val_accuracy: 0.9600\n",
            "Epoch 8/10\n",
            "941/941 [==============================] - 53s 56ms/step - loss: 0.2345 - accuracy: 0.9600 - val_loss: 0.2209 - val_accuracy: 0.9626\n",
            "Epoch 9/10\n",
            "941/941 [==============================] - 40s 42ms/step - loss: 0.2080 - accuracy: 0.9633 - val_loss: 0.1988 - val_accuracy: 0.9599\n",
            "Epoch 10/10\n",
            "941/941 [==============================] - 41s 44ms/step - loss: 0.1860 - accuracy: 0.9673 - val_loss: 0.1827 - val_accuracy: 0.9530\n"
          ],
          "name": "stdout"
        }
      ]
    },
    {
      "cell_type": "code",
      "metadata": {
        "id": "4DZNZwU-rf9J",
        "outputId": "d0dbf2ea-561f-4c7e-c073-db3df1ef7af7"
      },
      "source": [
        "# summarize history for accuracy\n",
        "plt.plot(history.history['accuracy'])\n",
        "plt.plot(history.history['val_accuracy'])\n",
        "plt.title('model_ANN accuracy')\n",
        "plt.ylabel('accuracy')\n",
        "plt.xlabel('epoch')\n",
        "plt.legend(['train', 'test'], loc='upper left')\n",
        "plt.show()\n",
        "# summarize history for loss\n",
        "plt.plot(history.history['loss'])\n",
        "plt.plot(history.history['val_loss'])\n",
        "plt.title('model_ANN loss')\n",
        "plt.ylabel('loss')\n",
        "plt.xlabel('epoch')\n",
        "plt.legend(['train', 'test'], loc='upper left')\n",
        "plt.show()"
      ],
      "execution_count": null,
      "outputs": [
        {
          "output_type": "display_data",
          "data": {
            "image/png": "[encoded data removed]",
            "text/plain": [
              "<Figure size 432x288 with 1 Axes>"
            ]
          },
          "metadata": {
            "tags": [],
            "needs_background": "light"
          }
        },
        {
          "output_type": "display_data",
          "data": {
            "image/png": "[encoded data removed]",
            "text/plain": [
              "<Figure size 432x288 with 1 Axes>"
            ]
          },
          "metadata": {
            "tags": [],
            "needs_background": "light"
          }
        }
      ]
    },
    {
      "cell_type": "code",
      "metadata": {
        "id": "DY_MJUderf9J"
      },
      "source": [
        "y_cap=model1.predict(X_test)"
      ],
      "execution_count": null,
      "outputs": []
    },
    {
      "cell_type": "code",
      "metadata": {
        "id": "-MqKlJFNrf9J",
        "outputId": "bc153939-820b-42af-869d-991e13e30e67"
      },
      "source": [
        "Y_test"
      ],
      "execution_count": null,
      "outputs": [
        {
          "output_type": "execute_result",
          "data": {
            "text/plain": [
              "17185    0\n",
              "42218    1\n",
              "38726    1\n",
              "14915    0\n",
              "19461    0\n",
              "        ..\n",
              "20207    0\n",
              "38506    1\n",
              "15972    0\n",
              "38710    1\n",
              "28909    1\n",
              "Name: target, Length: 14817, dtype: int64"
            ]
          },
          "metadata": {
            "tags": []
          },
          "execution_count": 38
        }
      ]
    },
    {
      "cell_type": "code",
      "metadata": {
        "id": "3Spk5erirf9J",
        "outputId": "f6537eaa-9242-4c84-d555-aaa26870da28"
      },
      "source": [
        "y_cap"
      ],
      "execution_count": null,
      "outputs": [
        {
          "output_type": "execute_result",
          "data": {
            "text/plain": [
              "array([[0.19473296],\n",
              "       [0.8247422 ],\n",
              "       [0.9935269 ],\n",
              "       ...,\n",
              "       [0.6536953 ],\n",
              "       [0.9990686 ],\n",
              "       [0.93055934]], dtype=float32)"
            ]
          },
          "metadata": {
            "tags": []
          },
          "execution_count": 39
        }
      ]
    },
    {
      "cell_type": "code",
      "metadata": {
        "id": "U0zf81Ggrf9K"
      },
      "source": [
        "y_cap[y_cap<0.5]=0\n",
        "y_cap[y_cap>0.5]=1"
      ],
      "execution_count": null,
      "outputs": []
    },
    {
      "cell_type": "code",
      "metadata": {
        "id": "4M2Edba7rf9K",
        "outputId": "fb42a935-de23-4823-f7a0-2ee2a2eb5581"
      },
      "source": [
        "print(classification_report(Y_test,y_cap))"
      ],
      "execution_count": null,
      "outputs": [
        {
          "output_type": "stream",
          "text": [
            "              precision    recall  f1-score   support\n",
            "\n",
            "           0       0.98      0.93      0.95      7749\n",
            "           1       0.92      0.98      0.95      7068\n",
            "\n",
            "    accuracy                           0.95     14817\n",
            "   macro avg       0.95      0.95      0.95     14817\n",
            "weighted avg       0.95      0.95      0.95     14817\n",
            "\n"
          ],
          "name": "stdout"
        }
      ]
    },
    {
      "cell_type": "code",
      "metadata": {
        "id": "X0L57Wyqrf9K"
      },
      "source": [
        "cm = confusion_matrix(Y_test, y_cap)\n",
        "from sklearn.metrics import ConfusionMatrixDisplay\n",
        "disp = ConfusionMatrixDisplay(confusion_matrix=cm,\n",
        "                              display_labels=[0, 1])"
      ],
      "execution_count": null,
      "outputs": []
    },
    {
      "cell_type": "code",
      "metadata": {
        "id": "gVkC9IeWrf9K",
        "outputId": "8b6396b7-dc40-4f6c-d644-c93a9b6f1b9b"
      },
      "source": [
        "disp = disp.plot(include_values=True, ax=None, xticks_rotation='horizontal', cmap=plt.cm.Blues)\n",
        "plt.show()"
      ],
      "execution_count": null,
      "outputs": [
        {
          "output_type": "display_data",
          "data": {
            "image/png": "[encoded data removed]",
            "text/plain": [
              "<Figure size 432x288 with 2 Axes>"
            ]
          },
          "metadata": {
            "tags": [],
            "needs_background": "light"
          }
        }
      ]
    },
    {
      "cell_type": "code",
      "metadata": {
        "id": "coUP18wFrf9L",
        "outputId": "c61966d4-7153-4d7a-e988-15288237d093"
      },
      "source": [
        "from sklearn.metrics import accuracy_score\n",
        "accuracy_score(Y_test,y_cap)"
      ],
      "execution_count": null,
      "outputs": [
        {
          "output_type": "execute_result",
          "data": {
            "text/plain": [
              "0.9529594384828238"
            ]
          },
          "metadata": {
            "tags": []
          },
          "execution_count": 49
        }
      ]
    },
    {
      "cell_type": "markdown",
      "metadata": {
        "id": "-_JZduk2rf9L"
      },
      "source": [
        "#### b.LSTM"
      ]
    },
    {
      "cell_type": "code",
      "metadata": {
        "id": "vyT0DCoCrf9L"
      },
      "source": [
        "model2=Sequential()\n",
        "model2.add(layers.Embedding(input_dim=vocab_size, output_dim=10,input_length=X_train.shape[1]))\n",
        "model2.add(layers.Dropout(0.3))\n",
        "model2.add(layers.LSTM(100))\n",
        "model2.add(layers.Dropout(0.3))\n",
        "model2.add(layers.Dense(1,activation='sigmoid'))\n",
        "model2.compile(loss='binary_crossentropy',optimizer='adam',metrics=['accuracy'])"
      ],
      "execution_count": null,
      "outputs": []
    },
    {
      "cell_type": "code",
      "metadata": {
        "colab": {
          "base_uri": "https://localhost:8080/"
        },
        "id": "YGg_F8gOrf9L",
        "outputId": "78879918-fd92-4ed7-bd67-c2a6c5568cb1"
      },
      "source": [
        "model2.summary()"
      ],
      "execution_count": null,
      "outputs": [
        {
          "output_type": "stream",
          "text": [
            "Model: \"sequential\"\n",
            "_________________________________________________________________\n",
            "Layer (type)                 Output Shape              Param #   \n",
            "=================================================================\n",
            "embedding (Embedding)        (None, 8389, 10)          1219770   \n",
            "_________________________________________________________________\n",
            "dropout (Dropout)            (None, 8389, 10)          0         \n",
            "_________________________________________________________________\n",
            "lstm (LSTM)                  (None, 100)               44400     \n",
            "_________________________________________________________________\n",
            "dropout_1 (Dropout)          (None, 100)               0         \n",
            "_________________________________________________________________\n",
            "dense (Dense)                (None, 1)                 101       \n",
            "=================================================================\n",
            "Total params: 1,264,271\n",
            "Trainable params: 1,264,271\n",
            "Non-trainable params: 0\n",
            "_________________________________________________________________\n"
          ],
          "name": "stdout"
        }
      ]
    },
    {
      "cell_type": "code",
      "metadata": {
        "colab": {
          "base_uri": "https://localhost:8080/"
        },
        "id": "VCj5Pn_drf9L",
        "outputId": "93cef7cf-e938-4880-feb0-bba49b8ae3e9"
      },
      "source": [
        "history2 = model2.fit(X_train, Y_train, epochs=10, validation_data=(X_test, Y_test))"
      ],
      "execution_count": null,
      "outputs": [
        {
          "output_type": "stream",
          "text": [
            "Epoch 1/10\n",
            "941/941 [==============================] - 348s 335ms/step - loss: 0.6926 - accuracy: 0.5194 - val_loss: 0.6923 - val_accuracy: 0.5230\n",
            "Epoch 2/10\n",
            "941/941 [==============================] - 315s 335ms/step - loss: 0.6922 - accuracy: 0.5245 - val_loss: 0.6921 - val_accuracy: 0.5230\n",
            "Epoch 3/10\n",
            "941/941 [==============================] - 315s 335ms/step - loss: 0.6925 - accuracy: 0.5195 - val_loss: 0.6921 - val_accuracy: 0.5230\n",
            "Epoch 4/10\n",
            "941/941 [==============================] - 315s 335ms/step - loss: 0.6924 - accuracy: 0.5216 - val_loss: 0.6921 - val_accuracy: 0.5230\n",
            "Epoch 5/10\n",
            "941/941 [==============================] - 315s 334ms/step - loss: 0.6924 - accuracy: 0.5212 - val_loss: 0.6921 - val_accuracy: 0.5230\n",
            "Epoch 6/10\n",
            "941/941 [==============================] - 315s 335ms/step - loss: 0.6921 - accuracy: 0.5235 - val_loss: 0.6921 - val_accuracy: 0.5230\n",
            "Epoch 7/10\n",
            "941/941 [==============================] - 314s 334ms/step - loss: 0.6919 - accuracy: 0.5256 - val_loss: 0.6922 - val_accuracy: 0.5230\n",
            "Epoch 8/10\n",
            "941/941 [==============================] - 315s 335ms/step - loss: 0.6922 - accuracy: 0.5235 - val_loss: 0.6921 - val_accuracy: 0.5230\n",
            "Epoch 9/10\n",
            "941/941 [==============================] - 314s 334ms/step - loss: 0.6923 - accuracy: 0.5221 - val_loss: 0.6922 - val_accuracy: 0.5230\n",
            "Epoch 10/10\n",
            "941/941 [==============================] - 315s 335ms/step - loss: 0.6924 - accuracy: 0.5211 - val_loss: 0.6921 - val_accuracy: 0.5230\n"
          ],
          "name": "stdout"
        }
      ]
    },
    {
      "cell_type": "code",
      "metadata": {
        "colab": {
          "base_uri": "https://localhost:8080/",
          "height": 573
        },
        "id": "cDSEW0fLrf9M",
        "outputId": "e1cc057d-46ca-4d08-a0db-5e460a6c9987"
      },
      "source": [
        "# summarize history for accuracy\n",
        "plt.plot(history2.history['accuracy'])\n",
        "plt.plot(history2.history['val_accuracy'])\n",
        "plt.title('model_LSTM accuracy')\n",
        "plt.ylabel('accuracy')\n",
        "plt.xlabel('epoch')\n",
        "plt.legend(['train', 'test'], loc='upper left')\n",
        "plt.show()\n",
        "# summarize history for loss\n",
        "plt.plot(history2.history['loss'])\n",
        "plt.plot(history2.history['val_loss'])\n",
        "plt.title('model_LSTM loss')\n",
        "plt.ylabel('loss')\n",
        "plt.xlabel('epoch')\n",
        "plt.legend(['train', 'test'], loc='upper left')\n",
        "plt.show()"
      ],
      "execution_count": null,
      "outputs": [
        {
          "output_type": "display_data",
          "data": {
            "image/png": "[encoded data removed]",
            "text/plain": [
              "<Figure size 432x288 with 1 Axes>"
            ]
          },
          "metadata": {
            "tags": [],
            "needs_background": "light"
          }
        },
        {
          "output_type": "display_data",
          "data": {
            "image/png": "[encoded data removed]",
            "text/plain": [
              "<Figure size 432x288 with 1 Axes>"
            ]
          },
          "metadata": {
            "tags": [],
            "needs_background": "light"
          }
        }
      ]
    },
    {
      "cell_type": "code",
      "metadata": {
        "id": "8lxd9BUzrf9M"
      },
      "source": [
        "y_cap=model2.predict(X_test)"
      ],
      "execution_count": null,
      "outputs": []
    },
    {
      "cell_type": "code",
      "metadata": {
        "colab": {
          "base_uri": "https://localhost:8080/"
        },
        "id": "UsULR7oXrf9M",
        "outputId": "d256f1fe-289c-473e-f396-2fab7f312487"
      },
      "source": [
        "y_cap"
      ],
      "execution_count": null,
      "outputs": [
        {
          "output_type": "execute_result",
          "data": {
            "text/plain": [
              "array([[0.48182622],\n",
              "       [0.48182622],\n",
              "       [0.48182622],\n",
              "       ...,\n",
              "       [0.48182622],\n",
              "       [0.48182622],\n",
              "       [0.48182622]], dtype=float32)"
            ]
          },
          "metadata": {
            "tags": []
          },
          "execution_count": 14
        }
      ]
    },
    {
      "cell_type": "code",
      "metadata": {
        "id": "zmzEhoNxrf9M"
      },
      "source": [
        "y_cap[y_cap<0.5]=0\n",
        "y_cap[y_cap>0.5]=1"
      ],
      "execution_count": null,
      "outputs": []
    },
    {
      "cell_type": "code",
      "metadata": {
        "colab": {
          "base_uri": "https://localhost:8080/"
        },
        "id": "H7NxpfDarf9M",
        "outputId": "f85e243d-53c2-4a3d-d440-3f2db9f998a5"
      },
      "source": [
        "print(classification_report(Y_test,y_cap))"
      ],
      "execution_count": null,
      "outputs": [
        {
          "output_type": "stream",
          "text": [
            "              precision    recall  f1-score   support\n",
            "\n",
            "           0       0.52      1.00      0.69      7749\n",
            "           1       0.00      0.00      0.00      7068\n",
            "\n",
            "    accuracy                           0.52     14817\n",
            "   macro avg       0.26      0.50      0.34     14817\n",
            "weighted avg       0.27      0.52      0.36     14817\n",
            "\n"
          ],
          "name": "stdout"
        }
      ]
    },
    {
      "cell_type": "code",
      "metadata": {
        "id": "VwreVQMtrf9M"
      },
      "source": [
        "cm = confusion_matrix(Y_test, y_cap)\n",
        "from sklearn.metrics import ConfusionMatrixDisplay\n",
        "disp = ConfusionMatrixDisplay(confusion_matrix=cm,\n",
        "                              display_labels=[0, 1])"
      ],
      "execution_count": null,
      "outputs": []
    },
    {
      "cell_type": "code",
      "metadata": {
        "colab": {
          "base_uri": "https://localhost:8080/",
          "height": 279
        },
        "id": "8LH_vW-ysn8q",
        "outputId": "2db66139-7822-417f-ebd4-90aeb2137c5c"
      },
      "source": [
        "disp = disp.plot(include_values=True, ax=None, xticks_rotation='horizontal', cmap=plt.cm.Blues)\n",
        "plt.show()"
      ],
      "execution_count": null,
      "outputs": [
        {
          "output_type": "display_data",
          "data": {
            "image/png": "[encoded data removed]",
            "text/plain": [
              "<Figure size 432x288 with 2 Axes>"
            ]
          },
          "metadata": {
            "tags": [],
            "needs_background": "light"
          }
        }
      ]
    },
    {
      "cell_type": "code",
      "metadata": {
        "colab": {
          "base_uri": "https://localhost:8080/"
        },
        "id": "PBMQt9e8sn-f",
        "outputId": "34949391-051a-48fa-f219-c6bfc129e891"
      },
      "source": [
        "from sklearn.metrics import accuracy_score\n",
        "accuracy_score(Y_test,y_cap)"
      ],
      "execution_count": null,
      "outputs": [
        {
          "output_type": "execute_result",
          "data": {
            "text/plain": [
              "0.5229803603968415"
            ]
          },
          "metadata": {
            "tags": []
          },
          "execution_count": 19
        }
      ]
    },
    {
      "cell_type": "code",
      "metadata": {
        "id": "z1Lp7Mn0uc9e"
      },
      "source": [
        ""
      ],
      "execution_count": null,
      "outputs": []
    },
    {
      "cell_type": "markdown",
      "metadata": {
        "id": "hSFjR2LDtWWW"
      },
      "source": [
        "####Applying Bi-directional LSTM"
      ]
    },
    {
      "cell_type": "code",
      "metadata": {
        "id": "ggNZA0uusoCB"
      },
      "source": [
        "model3=Sequential()\n",
        "model3.add(layers.Embedding(input_dim=vocab_size, output_dim=10,input_length=X_train.shape[1]))\n",
        "model3.add(layers.Bidirectional(layers.LSTM(100)))\n",
        "model3.add(layers.Dropout(0.3))\n",
        "model3.add(layers.Dense(1,activation='sigmoid'))\n",
        "model3.compile(loss='binary_crossentropy',optimizer='adam',metrics=['accuracy'])"
      ],
      "execution_count": 9,
      "outputs": []
    },
    {
      "cell_type": "code",
      "metadata": {
        "colab": {
          "base_uri": "https://localhost:8080/"
        },
        "id": "v16sfTeftaZi",
        "outputId": "01f00bb7-7d59-421b-ccfd-4951dc42b542"
      },
      "source": [
        "model3.summary()"
      ],
      "execution_count": 10,
      "outputs": [
        {
          "output_type": "stream",
          "text": [
            "Model: \"sequential\"\n",
            "_________________________________________________________________\n",
            "Layer (type)                 Output Shape              Param #   \n",
            "=================================================================\n",
            "embedding (Embedding)        (None, 8389, 10)          1219770   \n",
            "_________________________________________________________________\n",
            "bidirectional (Bidirectional (None, 200)               88800     \n",
            "_________________________________________________________________\n",
            "dropout (Dropout)            (None, 200)               0         \n",
            "_________________________________________________________________\n",
            "dense (Dense)                (None, 1)                 201       \n",
            "=================================================================\n",
            "Total params: 1,308,771\n",
            "Trainable params: 1,308,771\n",
            "Non-trainable params: 0\n",
            "_________________________________________________________________\n"
          ],
          "name": "stdout"
        }
      ]
    },
    {
      "cell_type": "code",
      "metadata": {
        "colab": {
          "base_uri": "https://localhost:8080/"
        },
        "id": "DrfUo-6Jtadz",
        "outputId": "65e8f11a-673f-4ef5-ab1a-0c0f9e0ef889"
      },
      "source": [
        "history3 = model3.fit(X_train, Y_train, epochs=10, validation_data=(X_test, Y_test))"
      ],
      "execution_count": 11,
      "outputs": [
        {
          "output_type": "stream",
          "text": [
            "Epoch 1/10\n",
            "941/941 [==============================] - 639s 643ms/step - loss: 0.2709 - accuracy: 0.8829 - val_loss: 0.0069 - val_accuracy: 0.9985\n",
            "Epoch 2/10\n",
            "941/941 [==============================] - 603s 641ms/step - loss: 0.0040 - accuracy: 0.9992 - val_loss: 0.0026 - val_accuracy: 0.9995\n",
            "Epoch 3/10\n",
            "941/941 [==============================] - 601s 639ms/step - loss: 0.0025 - accuracy: 0.9995 - val_loss: 0.0022 - val_accuracy: 0.9996\n",
            "Epoch 4/10\n",
            "941/941 [==============================] - 601s 638ms/step - loss: 4.3534e-04 - accuracy: 0.9999 - val_loss: 0.0032 - val_accuracy: 0.9992\n",
            "Epoch 5/10\n",
            "941/941 [==============================] - 601s 639ms/step - loss: 8.7502e-04 - accuracy: 0.9998 - val_loss: 0.0035 - val_accuracy: 0.9989\n",
            "Epoch 6/10\n",
            "941/941 [==============================] - 600s 638ms/step - loss: 1.8055e-04 - accuracy: 1.0000 - val_loss: 0.0030 - val_accuracy: 0.9992\n",
            "Epoch 7/10\n",
            "941/941 [==============================] - 599s 637ms/step - loss: 1.7903e-05 - accuracy: 1.0000 - val_loss: 0.0060 - val_accuracy: 0.9982\n",
            "Epoch 8/10\n",
            "941/941 [==============================] - 600s 637ms/step - loss: 1.2965e-05 - accuracy: 1.0000 - val_loss: 0.0034 - val_accuracy: 0.9990\n",
            "Epoch 9/10\n",
            "941/941 [==============================] - 600s 638ms/step - loss: 0.0029 - accuracy: 0.9988 - val_loss: 0.0031 - val_accuracy: 0.9992\n",
            "Epoch 10/10\n",
            "941/941 [==============================] - 602s 640ms/step - loss: 1.8365e-04 - accuracy: 1.0000 - val_loss: 0.0033 - val_accuracy: 0.9990\n"
          ],
          "name": "stdout"
        }
      ]
    },
    {
      "cell_type": "code",
      "metadata": {
        "id": "5v0LO10mtafp",
        "colab": {
          "base_uri": "https://localhost:8080/",
          "height": 573
        },
        "outputId": "36af3a42-3690-4e76-d8fc-ea33f1bbcef1"
      },
      "source": [
        "# summarize history for accuracy\n",
        "plt.plot(history3.history['accuracy'])\n",
        "plt.plot(history3.history['val_accuracy'])\n",
        "plt.title('model_birectionalLSTM accuracy')\n",
        "plt.ylabel('accuracy')\n",
        "plt.xlabel('epoch')\n",
        "plt.legend(['train', 'test'], loc='upper left')\n",
        "plt.show()\n",
        "# summarize history for loss\n",
        "plt.plot(history3.history['loss'])\n",
        "plt.plot(history3.history['val_loss'])\n",
        "plt.title('model_bidirectionalLSTM loss')\n",
        "plt.ylabel('loss')\n",
        "plt.xlabel('epoch')\n",
        "plt.legend(['train', 'test'], loc='upper left')\n",
        "plt.show()"
      ],
      "execution_count": 12,
      "outputs": [
        {
          "output_type": "display_data",
          "data": {
            "image/png": "[encoded data removed]",
            "text/plain": [
              "<Figure size 432x288 with 1 Axes>"
            ]
          },
          "metadata": {
            "tags": [],
            "needs_background": "light"
          }
        },
        {
          "output_type": "display_data",
          "data": {
            "image/png": "[encoded data removed]",
            "text/plain": [
              "<Figure size 432x288 with 1 Axes>"
            ]
          },
          "metadata": {
            "tags": [],
            "needs_background": "light"
          }
        }
      ]
    },
    {
      "cell_type": "code",
      "metadata": {
        "id": "UqhNeDK55UAH"
      },
      "source": [
        "y_cap=model3.predict(X_test)"
      ],
      "execution_count": 13,
      "outputs": []
    },
    {
      "cell_type": "code",
      "metadata": {
        "id": "Ui_cH1Y_5UM-",
        "colab": {
          "base_uri": "https://localhost:8080/"
        },
        "outputId": "2458dabd-3037-42d6-ae2d-e8dfd1d5c094"
      },
      "source": [
        "y_cap"
      ],
      "execution_count": 14,
      "outputs": [
        {
          "output_type": "execute_result",
          "data": {
            "text/plain": [
              "array([[1.0000000e+00],\n",
              "       [2.0582711e-05],\n",
              "       [3.9911578e-05],\n",
              "       ...,\n",
              "       [8.4275880e-06],\n",
              "       [9.9991596e-01],\n",
              "       [4.8286805e-05]], dtype=float32)"
            ]
          },
          "metadata": {
            "tags": []
          },
          "execution_count": 14
        }
      ]
    },
    {
      "cell_type": "code",
      "metadata": {
        "id": "wKsqtP7C5UTJ"
      },
      "source": [
        "y_cap[y_cap<0.5]=0\n",
        "y_cap[y_cap>0.5]=1"
      ],
      "execution_count": 15,
      "outputs": []
    },
    {
      "cell_type": "code",
      "metadata": {
        "id": "cFBKJvuuIpz-",
        "colab": {
          "base_uri": "https://localhost:8080/"
        },
        "outputId": "256f2789-20aa-4045-f10c-52d13c2f1bf1"
      },
      "source": [
        "print(classification_report(Y_test,y_cap))"
      ],
      "execution_count": 16,
      "outputs": [
        {
          "output_type": "stream",
          "text": [
            "              precision    recall  f1-score   support\n",
            "\n",
            "           0       1.00      1.00      1.00      7749\n",
            "           1       1.00      1.00      1.00      7068\n",
            "\n",
            "    accuracy                           1.00     14817\n",
            "   macro avg       1.00      1.00      1.00     14817\n",
            "weighted avg       1.00      1.00      1.00     14817\n",
            "\n"
          ],
          "name": "stdout"
        }
      ]
    },
    {
      "cell_type": "code",
      "metadata": {
        "id": "i93yPfmmIp21"
      },
      "source": [
        "cm = confusion_matrix(Y_test, y_cap)\n",
        "from sklearn.metrics import ConfusionMatrixDisplay\n",
        "disp = ConfusionMatrixDisplay(confusion_matrix=cm,\n",
        "                              display_labels=[0, 1])"
      ],
      "execution_count": 17,
      "outputs": []
    },
    {
      "cell_type": "code",
      "metadata": {
        "id": "nN3riQ6Jtai1",
        "colab": {
          "base_uri": "https://localhost:8080/",
          "height": 279
        },
        "outputId": "33e8109e-cd99-4f96-b0ef-17025d660495"
      },
      "source": [
        "disp = disp.plot(include_values=True, ax=None, xticks_rotation='horizontal', cmap=plt.cm.Blues)\n",
        "plt.show()"
      ],
      "execution_count": 18,
      "outputs": [
        {
          "output_type": "display_data",
          "data": {
            "image/png": "[encoded data removed]",
            "text/plain": [
              "<Figure size 432x288 with 2 Axes>"
            ]
          },
          "metadata": {
            "tags": [],
            "needs_background": "light"
          }
        }
      ]
    },
    {
      "cell_type": "code",
      "metadata": {
        "id": "weafUdMKIyY3",
        "colab": {
          "base_uri": "https://localhost:8080/"
        },
        "outputId": "d830d518-f390-469e-f5be-891737d30a83"
      },
      "source": [
        "from sklearn.metrics import accuracy_score\n",
        "accuracy_score(Y_test,y_cap)"
      ],
      "execution_count": 19,
      "outputs": [
        {
          "output_type": "execute_result",
          "data": {
            "text/plain": [
              "0.998987649321725"
            ]
          },
          "metadata": {
            "tags": []
          },
          "execution_count": 19
        }
      ]
    },
    {
      "cell_type": "code",
      "metadata": {
        "id": "fKA7RanmizCK"
      },
      "source": [
        "from sklearn.metrics import confusion_matrix"
      ],
      "execution_count": 20,
      "outputs": []
    },
    {
      "cell_type": "code",
      "metadata": {
        "colab": {
          "base_uri": "https://localhost:8080/"
        },
        "id": "5PqbakKxk_Vr",
        "outputId": "00f2d1f1-ea9f-403d-cb1c-5b81668449b4"
      },
      "source": [
        "confusion_matrix(Y_test,y_cap)"
      ],
      "execution_count": 21,
      "outputs": [
        {
          "output_type": "execute_result",
          "data": {
            "text/plain": [
              "array([[7746,    3],\n",
              "       [  12, 7056]])"
            ]
          },
          "metadata": {
            "tags": []
          },
          "execution_count": 21
        }
      ]
    },
    {
      "cell_type": "code",
      "metadata": {
        "id": "3HgtvNfNlE5I"
      },
      "source": [
        ""
      ],
      "execution_count": null,
      "outputs": []
    }
  ]
}